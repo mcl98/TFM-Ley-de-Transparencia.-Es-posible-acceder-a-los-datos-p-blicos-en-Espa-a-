{
  "cells": [
    {
      "cell_type": "markdown",
      "source": [
        "Lo primero que hacemos es importar las principales librerias que vamos a usar,\n",
        "así como el acceso a drive, para poder cargar nuestros datos."
      ],
      "metadata": {
        "id": "7Y__w4v3qyG_"
      }
    },
    {
      "cell_type": "code",
      "execution_count": 1,
      "metadata": {
        "id": "aEkBmnShXxLF"
      },
      "outputs": [],
      "source": [
        "import pandas as pd\n",
        "import numpy as np\n",
        "import seaborn as sns\n",
        "\n",
        "import matplotlib.pyplot as plt\n",
        "import matplotlib.mlab as mlab\n",
        "import matplotlib\n",
        "plt.style.use('ggplot')\n",
        "from matplotlib.pyplot import figure\n",
        "\n",
        "%matplotlib inline\n",
        "matplotlib.rcParams['figure.figsize'] = (10,8)\n",
        "\n",
        "pd.options.mode.chained_assignment = None"
      ]
    },
    {
      "cell_type": "code",
      "execution_count": 2,
      "metadata": {
        "colab": {
          "base_uri": "https://localhost:8080/"
        },
        "id": "1MZ5L-V_X8xh",
        "outputId": "38d6382f-a4c8-4c00-c3cf-284cab32ec48"
      },
      "outputs": [
        {
          "output_type": "stream",
          "name": "stdout",
          "text": [
            "Mounted at /content/drive\n"
          ]
        }
      ],
      "source": [
        "from google.colab import drive\n",
        "drive.mount('/content/drive')"
      ]
    },
    {
      "cell_type": "code",
      "execution_count": 3,
      "metadata": {
        "colab": {
          "base_uri": "https://localhost:8080/",
          "height": 1000
        },
        "id": "_T3BjZL5YIdk",
        "outputId": "eb9eeae5-3e50-474f-974d-0ab7077c3a2a"
      },
      "outputs": [
        {
          "output_type": "execute_result",
          "data": {
            "text/plain": [
              "      Ingrés / Despesa             Subsector Agrupació Secció  Codi Entitat  \\\n",
              "0                    D           Generalitat        AG     AG          1000   \n",
              "1                    D           Generalitat        AG     AG          1000   \n",
              "2                    D           Generalitat        AG     AG          1000   \n",
              "3                    D           Generalitat        AG     AG          1000   \n",
              "4                    D           Generalitat        AG     AG          1000   \n",
              "...                ...                   ...       ...    ...           ...   \n",
              "15888                I  Entitats dret públic       NaN    NaN          9960   \n",
              "15889                I  Entitats dret públic       NaN    NaN          9960   \n",
              "15890                I  Societats mercantils       NaN    NaN          9984   \n",
              "15891                I  Societats mercantils       NaN    NaN          9984   \n",
              "15892                I  Societats mercantils       NaN    NaN          9984   \n",
              "\n",
              "                   Nom Entitat Codi Servei  \\\n",
              "0                  Generalitat        AG01   \n",
              "1                  Generalitat        AG01   \n",
              "2                  Generalitat        AG01   \n",
              "3                  Generalitat        AG01   \n",
              "4                  Generalitat        AG01   \n",
              "...                        ...         ...   \n",
              "15888  Salut Catalunya Central        9960   \n",
              "15889  Salut Catalunya Central        9960   \n",
              "15890         FGC Mobilitat SA        9984   \n",
              "15891         FGC Mobilitat SA        9984   \n",
              "15892         FGC Mobilitat SA        9984   \n",
              "\n",
              "                                     Nom Servei  Capítol  Article  ...  \\\n",
              "0      Gab. i SG Acció Climàtica, Alim. i Ag. R        1       10  ...   \n",
              "1      Gab. i SG Acció Climàtica, Alim. i Ag. R        1       10  ...   \n",
              "2      Gab. i SG Acció Climàtica, Alim. i Ag. R        1       11  ...   \n",
              "3      Gab. i SG Acció Climàtica, Alim. i Ag. R        1       11  ...   \n",
              "4      Gab. i SG Acció Climàtica, Alim. i Ag. R        1       12  ...   \n",
              "...                                         ...      ...      ...  ...   \n",
              "15888                   Salut Catalunya Central        4       43  ...   \n",
              "15889                   Salut Catalunya Central        8       83  ...   \n",
              "15890                          FGC Mobilitat SA        8       83  ...   \n",
              "15891                          FGC Mobilitat SA        9       91  ...   \n",
              "15892                          FGC Mobilitat SA        9       91  ...   \n",
              "\n",
              "                                           Nom Aplicació  Àrea Política  \\\n",
              "0                                  Retribucions bàsiques     1       12   \n",
              "1                           Retribucions complementàries     1       12   \n",
              "2                                  Retribucions bàsiques     1       12   \n",
              "3                           Retribucions complementàries     1       12   \n",
              "4                                  Retribucions bàsiques     1       12   \n",
              "...                                                  ...   ...      ...   \n",
              "15888                      Del Servei Català de la Salut     0        0   \n",
              "15889  Aportacions del  Servei Català de la Salut a f...     0        0   \n",
              "15890  Aportacions de capital de Ferrocarrils de la G...     0        0   \n",
              "15891  Préstecs del sector públic o entitats adscrite...     0        0   \n",
              "15892  Préstecs fora del sector públic de la generali...     0        0   \n",
              "\n",
              "       Programa                       Nom Programa  Posició pressupostària  \\\n",
              "0           121  Direcció i administració generals   D/100000100/1210/0000   \n",
              "1           121  Direcció i administració generals   D/100000200/1210/0000   \n",
              "2           121  Direcció i administració generals   D/110000100/1210/0000   \n",
              "3           121  Direcció i administració generals   D/110000200/1210/0000   \n",
              "4           121  Direcció i administració generals   D/120000100/1210/0000   \n",
              "...         ...                                ...                     ...   \n",
              "15888         0                                NaN        I/430510000/0000   \n",
              "15889         0                                NaN        I/831510000/0000   \n",
              "15890         0                                NaN        I/832636000/0000   \n",
              "15891         0                                NaN        I/910000100/0000   \n",
              "15892         0                                NaN        I/912000100/0000   \n",
              "\n",
              "      Finançament afectat Import sense consolidar  \\\n",
              "0                     NaN               587659.90   \n",
              "1                     NaN               616290.72   \n",
              "2                     NaN               141785.46   \n",
              "3                     NaN               369407.18   \n",
              "4                     NaN             31867284.20   \n",
              "...                   ...                     ...   \n",
              "15888                 NaN               871004.00   \n",
              "15889                 NaN              2850000.00   \n",
              "15890                 NaN              2700000.00   \n",
              "15891                 NaN             20000000.00   \n",
              "15892                 NaN             12000000.00   \n",
              "\n",
              "      Import consolidat sector públic  Entitat del sector públic  \n",
              "0                           587659.90                          X  \n",
              "1                           616290.72                          X  \n",
              "2                           141785.46                          X  \n",
              "3                           369407.18                          X  \n",
              "4                         31867284.20                          X  \n",
              "...                               ...                        ...  \n",
              "15888                            0.00                          X  \n",
              "15889                            0.00                          X  \n",
              "15890                            0.00                          X  \n",
              "15891                            0.00                          X  \n",
              "15892                     12000000.00                          X  \n",
              "\n",
              "[15893 rows x 22 columns]"
            ],
            "text/html": [
              "\n",
              "  <div id=\"df-779e06ba-c3b3-4f07-ad2b-7b7f7b3b39bc\" class=\"colab-df-container\">\n",
              "    <div>\n",
              "<style scoped>\n",
              "    .dataframe tbody tr th:only-of-type {\n",
              "        vertical-align: middle;\n",
              "    }\n",
              "\n",
              "    .dataframe tbody tr th {\n",
              "        vertical-align: top;\n",
              "    }\n",
              "\n",
              "    .dataframe thead th {\n",
              "        text-align: right;\n",
              "    }\n",
              "</style>\n",
              "<table border=\"1\" class=\"dataframe\">\n",
              "  <thead>\n",
              "    <tr style=\"text-align: right;\">\n",
              "      <th></th>\n",
              "      <th>Ingrés / Despesa</th>\n",
              "      <th>Subsector</th>\n",
              "      <th>Agrupació</th>\n",
              "      <th>Secció</th>\n",
              "      <th>Codi Entitat</th>\n",
              "      <th>Nom Entitat</th>\n",
              "      <th>Codi Servei</th>\n",
              "      <th>Nom Servei</th>\n",
              "      <th>Capítol</th>\n",
              "      <th>Article</th>\n",
              "      <th>...</th>\n",
              "      <th>Nom Aplicació</th>\n",
              "      <th>Àrea</th>\n",
              "      <th>Política</th>\n",
              "      <th>Programa</th>\n",
              "      <th>Nom Programa</th>\n",
              "      <th>Posició pressupostària</th>\n",
              "      <th>Finançament afectat</th>\n",
              "      <th>Import sense consolidar</th>\n",
              "      <th>Import consolidat sector públic</th>\n",
              "      <th>Entitat del sector públic</th>\n",
              "    </tr>\n",
              "  </thead>\n",
              "  <tbody>\n",
              "    <tr>\n",
              "      <th>0</th>\n",
              "      <td>D</td>\n",
              "      <td>Generalitat</td>\n",
              "      <td>AG</td>\n",
              "      <td>AG</td>\n",
              "      <td>1000</td>\n",
              "      <td>Generalitat</td>\n",
              "      <td>AG01</td>\n",
              "      <td>Gab. i SG Acció Climàtica, Alim. i Ag. R</td>\n",
              "      <td>1</td>\n",
              "      <td>10</td>\n",
              "      <td>...</td>\n",
              "      <td>Retribucions bàsiques</td>\n",
              "      <td>1</td>\n",
              "      <td>12</td>\n",
              "      <td>121</td>\n",
              "      <td>Direcció i administració generals</td>\n",
              "      <td>D/100000100/1210/0000</td>\n",
              "      <td>NaN</td>\n",
              "      <td>587659.90</td>\n",
              "      <td>587659.90</td>\n",
              "      <td>X</td>\n",
              "    </tr>\n",
              "    <tr>\n",
              "      <th>1</th>\n",
              "      <td>D</td>\n",
              "      <td>Generalitat</td>\n",
              "      <td>AG</td>\n",
              "      <td>AG</td>\n",
              "      <td>1000</td>\n",
              "      <td>Generalitat</td>\n",
              "      <td>AG01</td>\n",
              "      <td>Gab. i SG Acció Climàtica, Alim. i Ag. R</td>\n",
              "      <td>1</td>\n",
              "      <td>10</td>\n",
              "      <td>...</td>\n",
              "      <td>Retribucions complementàries</td>\n",
              "      <td>1</td>\n",
              "      <td>12</td>\n",
              "      <td>121</td>\n",
              "      <td>Direcció i administració generals</td>\n",
              "      <td>D/100000200/1210/0000</td>\n",
              "      <td>NaN</td>\n",
              "      <td>616290.72</td>\n",
              "      <td>616290.72</td>\n",
              "      <td>X</td>\n",
              "    </tr>\n",
              "    <tr>\n",
              "      <th>2</th>\n",
              "      <td>D</td>\n",
              "      <td>Generalitat</td>\n",
              "      <td>AG</td>\n",
              "      <td>AG</td>\n",
              "      <td>1000</td>\n",
              "      <td>Generalitat</td>\n",
              "      <td>AG01</td>\n",
              "      <td>Gab. i SG Acció Climàtica, Alim. i Ag. R</td>\n",
              "      <td>1</td>\n",
              "      <td>11</td>\n",
              "      <td>...</td>\n",
              "      <td>Retribucions bàsiques</td>\n",
              "      <td>1</td>\n",
              "      <td>12</td>\n",
              "      <td>121</td>\n",
              "      <td>Direcció i administració generals</td>\n",
              "      <td>D/110000100/1210/0000</td>\n",
              "      <td>NaN</td>\n",
              "      <td>141785.46</td>\n",
              "      <td>141785.46</td>\n",
              "      <td>X</td>\n",
              "    </tr>\n",
              "    <tr>\n",
              "      <th>3</th>\n",
              "      <td>D</td>\n",
              "      <td>Generalitat</td>\n",
              "      <td>AG</td>\n",
              "      <td>AG</td>\n",
              "      <td>1000</td>\n",
              "      <td>Generalitat</td>\n",
              "      <td>AG01</td>\n",
              "      <td>Gab. i SG Acció Climàtica, Alim. i Ag. R</td>\n",
              "      <td>1</td>\n",
              "      <td>11</td>\n",
              "      <td>...</td>\n",
              "      <td>Retribucions complementàries</td>\n",
              "      <td>1</td>\n",
              "      <td>12</td>\n",
              "      <td>121</td>\n",
              "      <td>Direcció i administració generals</td>\n",
              "      <td>D/110000200/1210/0000</td>\n",
              "      <td>NaN</td>\n",
              "      <td>369407.18</td>\n",
              "      <td>369407.18</td>\n",
              "      <td>X</td>\n",
              "    </tr>\n",
              "    <tr>\n",
              "      <th>4</th>\n",
              "      <td>D</td>\n",
              "      <td>Generalitat</td>\n",
              "      <td>AG</td>\n",
              "      <td>AG</td>\n",
              "      <td>1000</td>\n",
              "      <td>Generalitat</td>\n",
              "      <td>AG01</td>\n",
              "      <td>Gab. i SG Acció Climàtica, Alim. i Ag. R</td>\n",
              "      <td>1</td>\n",
              "      <td>12</td>\n",
              "      <td>...</td>\n",
              "      <td>Retribucions bàsiques</td>\n",
              "      <td>1</td>\n",
              "      <td>12</td>\n",
              "      <td>121</td>\n",
              "      <td>Direcció i administració generals</td>\n",
              "      <td>D/120000100/1210/0000</td>\n",
              "      <td>NaN</td>\n",
              "      <td>31867284.20</td>\n",
              "      <td>31867284.20</td>\n",
              "      <td>X</td>\n",
              "    </tr>\n",
              "    <tr>\n",
              "      <th>...</th>\n",
              "      <td>...</td>\n",
              "      <td>...</td>\n",
              "      <td>...</td>\n",
              "      <td>...</td>\n",
              "      <td>...</td>\n",
              "      <td>...</td>\n",
              "      <td>...</td>\n",
              "      <td>...</td>\n",
              "      <td>...</td>\n",
              "      <td>...</td>\n",
              "      <td>...</td>\n",
              "      <td>...</td>\n",
              "      <td>...</td>\n",
              "      <td>...</td>\n",
              "      <td>...</td>\n",
              "      <td>...</td>\n",
              "      <td>...</td>\n",
              "      <td>...</td>\n",
              "      <td>...</td>\n",
              "      <td>...</td>\n",
              "      <td>...</td>\n",
              "    </tr>\n",
              "    <tr>\n",
              "      <th>15888</th>\n",
              "      <td>I</td>\n",
              "      <td>Entitats dret públic</td>\n",
              "      <td>NaN</td>\n",
              "      <td>NaN</td>\n",
              "      <td>9960</td>\n",
              "      <td>Salut Catalunya Central</td>\n",
              "      <td>9960</td>\n",
              "      <td>Salut Catalunya Central</td>\n",
              "      <td>4</td>\n",
              "      <td>43</td>\n",
              "      <td>...</td>\n",
              "      <td>Del Servei Català de la Salut</td>\n",
              "      <td>0</td>\n",
              "      <td>0</td>\n",
              "      <td>0</td>\n",
              "      <td>NaN</td>\n",
              "      <td>I/430510000/0000</td>\n",
              "      <td>NaN</td>\n",
              "      <td>871004.00</td>\n",
              "      <td>0.00</td>\n",
              "      <td>X</td>\n",
              "    </tr>\n",
              "    <tr>\n",
              "      <th>15889</th>\n",
              "      <td>I</td>\n",
              "      <td>Entitats dret públic</td>\n",
              "      <td>NaN</td>\n",
              "      <td>NaN</td>\n",
              "      <td>9960</td>\n",
              "      <td>Salut Catalunya Central</td>\n",
              "      <td>9960</td>\n",
              "      <td>Salut Catalunya Central</td>\n",
              "      <td>8</td>\n",
              "      <td>83</td>\n",
              "      <td>...</td>\n",
              "      <td>Aportacions del  Servei Català de la Salut a f...</td>\n",
              "      <td>0</td>\n",
              "      <td>0</td>\n",
              "      <td>0</td>\n",
              "      <td>NaN</td>\n",
              "      <td>I/831510000/0000</td>\n",
              "      <td>NaN</td>\n",
              "      <td>2850000.00</td>\n",
              "      <td>0.00</td>\n",
              "      <td>X</td>\n",
              "    </tr>\n",
              "    <tr>\n",
              "      <th>15890</th>\n",
              "      <td>I</td>\n",
              "      <td>Societats mercantils</td>\n",
              "      <td>NaN</td>\n",
              "      <td>NaN</td>\n",
              "      <td>9984</td>\n",
              "      <td>FGC Mobilitat SA</td>\n",
              "      <td>9984</td>\n",
              "      <td>FGC Mobilitat SA</td>\n",
              "      <td>8</td>\n",
              "      <td>83</td>\n",
              "      <td>...</td>\n",
              "      <td>Aportacions de capital de Ferrocarrils de la G...</td>\n",
              "      <td>0</td>\n",
              "      <td>0</td>\n",
              "      <td>0</td>\n",
              "      <td>NaN</td>\n",
              "      <td>I/832636000/0000</td>\n",
              "      <td>NaN</td>\n",
              "      <td>2700000.00</td>\n",
              "      <td>0.00</td>\n",
              "      <td>X</td>\n",
              "    </tr>\n",
              "    <tr>\n",
              "      <th>15891</th>\n",
              "      <td>I</td>\n",
              "      <td>Societats mercantils</td>\n",
              "      <td>NaN</td>\n",
              "      <td>NaN</td>\n",
              "      <td>9984</td>\n",
              "      <td>FGC Mobilitat SA</td>\n",
              "      <td>9984</td>\n",
              "      <td>FGC Mobilitat SA</td>\n",
              "      <td>9</td>\n",
              "      <td>91</td>\n",
              "      <td>...</td>\n",
              "      <td>Préstecs del sector públic o entitats adscrite...</td>\n",
              "      <td>0</td>\n",
              "      <td>0</td>\n",
              "      <td>0</td>\n",
              "      <td>NaN</td>\n",
              "      <td>I/910000100/0000</td>\n",
              "      <td>NaN</td>\n",
              "      <td>20000000.00</td>\n",
              "      <td>0.00</td>\n",
              "      <td>X</td>\n",
              "    </tr>\n",
              "    <tr>\n",
              "      <th>15892</th>\n",
              "      <td>I</td>\n",
              "      <td>Societats mercantils</td>\n",
              "      <td>NaN</td>\n",
              "      <td>NaN</td>\n",
              "      <td>9984</td>\n",
              "      <td>FGC Mobilitat SA</td>\n",
              "      <td>9984</td>\n",
              "      <td>FGC Mobilitat SA</td>\n",
              "      <td>9</td>\n",
              "      <td>91</td>\n",
              "      <td>...</td>\n",
              "      <td>Préstecs fora del sector públic de la generali...</td>\n",
              "      <td>0</td>\n",
              "      <td>0</td>\n",
              "      <td>0</td>\n",
              "      <td>NaN</td>\n",
              "      <td>I/912000100/0000</td>\n",
              "      <td>NaN</td>\n",
              "      <td>12000000.00</td>\n",
              "      <td>12000000.00</td>\n",
              "      <td>X</td>\n",
              "    </tr>\n",
              "  </tbody>\n",
              "</table>\n",
              "<p>15893 rows × 22 columns</p>\n",
              "</div>\n",
              "    <div class=\"colab-df-buttons\">\n",
              "\n",
              "  <div class=\"colab-df-container\">\n",
              "    <button class=\"colab-df-convert\" onclick=\"convertToInteractive('df-779e06ba-c3b3-4f07-ad2b-7b7f7b3b39bc')\"\n",
              "            title=\"Convert this dataframe to an interactive table.\"\n",
              "            style=\"display:none;\">\n",
              "\n",
              "  <svg xmlns=\"http://www.w3.org/2000/svg\" height=\"24px\" viewBox=\"0 -960 960 960\">\n",
              "    <path d=\"M120-120v-720h720v720H120Zm60-500h600v-160H180v160Zm220 220h160v-160H400v160Zm0 220h160v-160H400v160ZM180-400h160v-160H180v160Zm440 0h160v-160H620v160ZM180-180h160v-160H180v160Zm440 0h160v-160H620v160Z\"/>\n",
              "  </svg>\n",
              "    </button>\n",
              "\n",
              "  <style>\n",
              "    .colab-df-container {\n",
              "      display:flex;\n",
              "      gap: 12px;\n",
              "    }\n",
              "\n",
              "    .colab-df-convert {\n",
              "      background-color: #E8F0FE;\n",
              "      border: none;\n",
              "      border-radius: 50%;\n",
              "      cursor: pointer;\n",
              "      display: none;\n",
              "      fill: #1967D2;\n",
              "      height: 32px;\n",
              "      padding: 0 0 0 0;\n",
              "      width: 32px;\n",
              "    }\n",
              "\n",
              "    .colab-df-convert:hover {\n",
              "      background-color: #E2EBFA;\n",
              "      box-shadow: 0px 1px 2px rgba(60, 64, 67, 0.3), 0px 1px 3px 1px rgba(60, 64, 67, 0.15);\n",
              "      fill: #174EA6;\n",
              "    }\n",
              "\n",
              "    .colab-df-buttons div {\n",
              "      margin-bottom: 4px;\n",
              "    }\n",
              "\n",
              "    [theme=dark] .colab-df-convert {\n",
              "      background-color: #3B4455;\n",
              "      fill: #D2E3FC;\n",
              "    }\n",
              "\n",
              "    [theme=dark] .colab-df-convert:hover {\n",
              "      background-color: #434B5C;\n",
              "      box-shadow: 0px 1px 3px 1px rgba(0, 0, 0, 0.15);\n",
              "      filter: drop-shadow(0px 1px 2px rgba(0, 0, 0, 0.3));\n",
              "      fill: #FFFFFF;\n",
              "    }\n",
              "  </style>\n",
              "\n",
              "    <script>\n",
              "      const buttonEl =\n",
              "        document.querySelector('#df-779e06ba-c3b3-4f07-ad2b-7b7f7b3b39bc button.colab-df-convert');\n",
              "      buttonEl.style.display =\n",
              "        google.colab.kernel.accessAllowed ? 'block' : 'none';\n",
              "\n",
              "      async function convertToInteractive(key) {\n",
              "        const element = document.querySelector('#df-779e06ba-c3b3-4f07-ad2b-7b7f7b3b39bc');\n",
              "        const dataTable =\n",
              "          await google.colab.kernel.invokeFunction('convertToInteractive',\n",
              "                                                    [key], {});\n",
              "        if (!dataTable) return;\n",
              "\n",
              "        const docLinkHtml = 'Like what you see? Visit the ' +\n",
              "          '<a target=\"_blank\" href=https://colab.research.google.com/notebooks/data_table.ipynb>data table notebook</a>'\n",
              "          + ' to learn more about interactive tables.';\n",
              "        element.innerHTML = '';\n",
              "        dataTable['output_type'] = 'display_data';\n",
              "        await google.colab.output.renderOutput(dataTable, element);\n",
              "        const docLink = document.createElement('div');\n",
              "        docLink.innerHTML = docLinkHtml;\n",
              "        element.appendChild(docLink);\n",
              "      }\n",
              "    </script>\n",
              "  </div>\n",
              "\n",
              "\n",
              "<div id=\"df-2aaf6872-6801-4427-9860-ae37580df468\">\n",
              "  <button class=\"colab-df-quickchart\" onclick=\"quickchart('df-2aaf6872-6801-4427-9860-ae37580df468')\"\n",
              "            title=\"Suggest charts\"\n",
              "            style=\"display:none;\">\n",
              "\n",
              "<svg xmlns=\"http://www.w3.org/2000/svg\" height=\"24px\"viewBox=\"0 0 24 24\"\n",
              "     width=\"24px\">\n",
              "    <g>\n",
              "        <path d=\"M19 3H5c-1.1 0-2 .9-2 2v14c0 1.1.9 2 2 2h14c1.1 0 2-.9 2-2V5c0-1.1-.9-2-2-2zM9 17H7v-7h2v7zm4 0h-2V7h2v10zm4 0h-2v-4h2v4z\"/>\n",
              "    </g>\n",
              "</svg>\n",
              "  </button>\n",
              "\n",
              "<style>\n",
              "  .colab-df-quickchart {\n",
              "      --bg-color: #E8F0FE;\n",
              "      --fill-color: #1967D2;\n",
              "      --hover-bg-color: #E2EBFA;\n",
              "      --hover-fill-color: #174EA6;\n",
              "      --disabled-fill-color: #AAA;\n",
              "      --disabled-bg-color: #DDD;\n",
              "  }\n",
              "\n",
              "  [theme=dark] .colab-df-quickchart {\n",
              "      --bg-color: #3B4455;\n",
              "      --fill-color: #D2E3FC;\n",
              "      --hover-bg-color: #434B5C;\n",
              "      --hover-fill-color: #FFFFFF;\n",
              "      --disabled-bg-color: #3B4455;\n",
              "      --disabled-fill-color: #666;\n",
              "  }\n",
              "\n",
              "  .colab-df-quickchart {\n",
              "    background-color: var(--bg-color);\n",
              "    border: none;\n",
              "    border-radius: 50%;\n",
              "    cursor: pointer;\n",
              "    display: none;\n",
              "    fill: var(--fill-color);\n",
              "    height: 32px;\n",
              "    padding: 0;\n",
              "    width: 32px;\n",
              "  }\n",
              "\n",
              "  .colab-df-quickchart:hover {\n",
              "    background-color: var(--hover-bg-color);\n",
              "    box-shadow: 0 1px 2px rgba(60, 64, 67, 0.3), 0 1px 3px 1px rgba(60, 64, 67, 0.15);\n",
              "    fill: var(--button-hover-fill-color);\n",
              "  }\n",
              "\n",
              "  .colab-df-quickchart-complete:disabled,\n",
              "  .colab-df-quickchart-complete:disabled:hover {\n",
              "    background-color: var(--disabled-bg-color);\n",
              "    fill: var(--disabled-fill-color);\n",
              "    box-shadow: none;\n",
              "  }\n",
              "\n",
              "  .colab-df-spinner {\n",
              "    border: 2px solid var(--fill-color);\n",
              "    border-color: transparent;\n",
              "    border-bottom-color: var(--fill-color);\n",
              "    animation:\n",
              "      spin 1s steps(1) infinite;\n",
              "  }\n",
              "\n",
              "  @keyframes spin {\n",
              "    0% {\n",
              "      border-color: transparent;\n",
              "      border-bottom-color: var(--fill-color);\n",
              "      border-left-color: var(--fill-color);\n",
              "    }\n",
              "    20% {\n",
              "      border-color: transparent;\n",
              "      border-left-color: var(--fill-color);\n",
              "      border-top-color: var(--fill-color);\n",
              "    }\n",
              "    30% {\n",
              "      border-color: transparent;\n",
              "      border-left-color: var(--fill-color);\n",
              "      border-top-color: var(--fill-color);\n",
              "      border-right-color: var(--fill-color);\n",
              "    }\n",
              "    40% {\n",
              "      border-color: transparent;\n",
              "      border-right-color: var(--fill-color);\n",
              "      border-top-color: var(--fill-color);\n",
              "    }\n",
              "    60% {\n",
              "      border-color: transparent;\n",
              "      border-right-color: var(--fill-color);\n",
              "    }\n",
              "    80% {\n",
              "      border-color: transparent;\n",
              "      border-right-color: var(--fill-color);\n",
              "      border-bottom-color: var(--fill-color);\n",
              "    }\n",
              "    90% {\n",
              "      border-color: transparent;\n",
              "      border-bottom-color: var(--fill-color);\n",
              "    }\n",
              "  }\n",
              "</style>\n",
              "\n",
              "  <script>\n",
              "    async function quickchart(key) {\n",
              "      const quickchartButtonEl =\n",
              "        document.querySelector('#' + key + ' button');\n",
              "      quickchartButtonEl.disabled = true;  // To prevent multiple clicks.\n",
              "      quickchartButtonEl.classList.add('colab-df-spinner');\n",
              "      try {\n",
              "        const charts = await google.colab.kernel.invokeFunction(\n",
              "            'suggestCharts', [key], {});\n",
              "      } catch (error) {\n",
              "        console.error('Error during call to suggestCharts:', error);\n",
              "      }\n",
              "      quickchartButtonEl.classList.remove('colab-df-spinner');\n",
              "      quickchartButtonEl.classList.add('colab-df-quickchart-complete');\n",
              "    }\n",
              "    (() => {\n",
              "      let quickchartButtonEl =\n",
              "        document.querySelector('#df-2aaf6872-6801-4427-9860-ae37580df468 button');\n",
              "      quickchartButtonEl.style.display =\n",
              "        google.colab.kernel.accessAllowed ? 'block' : 'none';\n",
              "    })();\n",
              "  </script>\n",
              "</div>\n",
              "\n",
              "  <div id=\"id_93a2e428-dc0b-43f1-ba59-e7aafda60d82\">\n",
              "    <style>\n",
              "      .colab-df-generate {\n",
              "        background-color: #E8F0FE;\n",
              "        border: none;\n",
              "        border-radius: 50%;\n",
              "        cursor: pointer;\n",
              "        display: none;\n",
              "        fill: #1967D2;\n",
              "        height: 32px;\n",
              "        padding: 0 0 0 0;\n",
              "        width: 32px;\n",
              "      }\n",
              "\n",
              "      .colab-df-generate:hover {\n",
              "        background-color: #E2EBFA;\n",
              "        box-shadow: 0px 1px 2px rgba(60, 64, 67, 0.3), 0px 1px 3px 1px rgba(60, 64, 67, 0.15);\n",
              "        fill: #174EA6;\n",
              "      }\n",
              "\n",
              "      [theme=dark] .colab-df-generate {\n",
              "        background-color: #3B4455;\n",
              "        fill: #D2E3FC;\n",
              "      }\n",
              "\n",
              "      [theme=dark] .colab-df-generate:hover {\n",
              "        background-color: #434B5C;\n",
              "        box-shadow: 0px 1px 3px 1px rgba(0, 0, 0, 0.15);\n",
              "        filter: drop-shadow(0px 1px 2px rgba(0, 0, 0, 0.3));\n",
              "        fill: #FFFFFF;\n",
              "      }\n",
              "    </style>\n",
              "    <button class=\"colab-df-generate\" onclick=\"generateWithVariable('df')\"\n",
              "            title=\"Generate code using this dataframe.\"\n",
              "            style=\"display:none;\">\n",
              "\n",
              "  <svg xmlns=\"http://www.w3.org/2000/svg\" height=\"24px\"viewBox=\"0 0 24 24\"\n",
              "       width=\"24px\">\n",
              "    <path d=\"M7,19H8.4L18.45,9,17,7.55,7,17.6ZM5,21V16.75L18.45,3.32a2,2,0,0,1,2.83,0l1.4,1.43a1.91,1.91,0,0,1,.58,1.4,1.91,1.91,0,0,1-.58,1.4L9.25,21ZM18.45,9,17,7.55Zm-12,3A5.31,5.31,0,0,0,4.9,8.1,5.31,5.31,0,0,0,1,6.5,5.31,5.31,0,0,0,4.9,4.9,5.31,5.31,0,0,0,6.5,1,5.31,5.31,0,0,0,8.1,4.9,5.31,5.31,0,0,0,12,6.5,5.46,5.46,0,0,0,6.5,12Z\"/>\n",
              "  </svg>\n",
              "    </button>\n",
              "    <script>\n",
              "      (() => {\n",
              "      const buttonEl =\n",
              "        document.querySelector('#id_93a2e428-dc0b-43f1-ba59-e7aafda60d82 button.colab-df-generate');\n",
              "      buttonEl.style.display =\n",
              "        google.colab.kernel.accessAllowed ? 'block' : 'none';\n",
              "\n",
              "      buttonEl.onclick = () => {\n",
              "        google.colab.notebook.generateWithVariable('df');\n",
              "      }\n",
              "      })();\n",
              "    </script>\n",
              "  </div>\n",
              "\n",
              "    </div>\n",
              "  </div>\n"
            ],
            "application/vnd.google.colaboratory.intrinsic+json": {
              "type": "dataframe",
              "variable_name": "df"
            }
          },
          "metadata": {},
          "execution_count": 3
        }
      ],
      "source": [
        "df=pd.read_excel('/content/drive/MyDrive/datosTFM/Cataluña/LLEI_2022.xlsx')\n",
        "df\n"
      ]
    },
    {
      "cell_type": "markdown",
      "source": [
        "Una vez cargados nuestros datos, vamos a ver el tamaño de nuestro dataframe."
      ],
      "metadata": {
        "id": "mq6HnJt0rYGs"
      }
    },
    {
      "cell_type": "code",
      "execution_count": 4,
      "metadata": {
        "colab": {
          "base_uri": "https://localhost:8080/"
        },
        "id": "ivhYMhgGEqDr",
        "outputId": "b08ce52c-b273-4660-8f07-4d7707bd4bcd"
      },
      "outputs": [
        {
          "output_type": "stream",
          "name": "stdout",
          "text": [
            "(15893, 22)\n",
            "Ingrés / Despesa                    object\n",
            "Subsector                           object\n",
            "Agrupació                           object\n",
            "Secció                              object\n",
            "Codi Entitat                         int64\n",
            "Nom Entitat                         object\n",
            "Codi Servei                         object\n",
            "Nom Servei                          object\n",
            "Capítol                              int64\n",
            "Article                              int64\n",
            "Concepte                             int64\n",
            "Aplicacio                            int64\n",
            "Nom Aplicació                       object\n",
            "Àrea                                 int64\n",
            "Política                             int64\n",
            "Programa                             int64\n",
            "Nom Programa                        object\n",
            "Posició pressupostària              object\n",
            "Finançament afectat                 object\n",
            "Import sense consolidar            float64\n",
            "Import consolidat sector públic    float64\n",
            "Entitat del sector públic           object\n",
            "dtype: object\n"
          ]
        }
      ],
      "source": [
        "print(df.shape)\n",
        "print(df.dtypes)"
      ]
    },
    {
      "cell_type": "markdown",
      "source": [
        "Y veamos cuales son numéricas y cuales no."
      ],
      "metadata": {
        "id": "iooiWVq8rggo"
      }
    },
    {
      "cell_type": "code",
      "execution_count": 5,
      "metadata": {
        "colab": {
          "base_uri": "https://localhost:8080/"
        },
        "id": "Nf5x62incsLh",
        "outputId": "f3332abd-b351-4da2-b6de-edb85554d42c"
      },
      "outputs": [
        {
          "output_type": "stream",
          "name": "stdout",
          "text": [
            "['Codi Entitat' 'Capítol' 'Article' 'Concepte' 'Aplicacio' 'Àrea'\n",
            " 'Política' 'Programa' 'Import sense consolidar'\n",
            " 'Import consolidat sector públic']\n"
          ]
        }
      ],
      "source": [
        "df_numeric = df.select_dtypes(include=[np.number])\n",
        "numeric_cols = df_numeric.columns.values\n",
        "print(numeric_cols)"
      ]
    },
    {
      "cell_type": "code",
      "execution_count": 6,
      "metadata": {
        "colab": {
          "base_uri": "https://localhost:8080/"
        },
        "id": "iC8JQvZkFVc2",
        "outputId": "127a7a4b-21c3-42cc-ef1b-ecf51f55d630"
      },
      "outputs": [
        {
          "output_type": "stream",
          "name": "stdout",
          "text": [
            "['Ingrés / Despesa' 'Subsector' 'Agrupació' 'Secció' 'Nom Entitat'\n",
            " 'Codi Servei' 'Nom Servei' 'Nom Aplicació' 'Nom Programa'\n",
            " 'Posició pressupostària' 'Finançament afectat'\n",
            " 'Entitat del sector públic']\n"
          ]
        }
      ],
      "source": [
        "df_non_numeric = df.select_dtypes(exclude=[np.number])\n",
        "non_numeric_cols = df_non_numeric.columns.values\n",
        "print(non_numeric_cols)"
      ]
    },
    {
      "cell_type": "markdown",
      "source": [
        "Veamos el porcentaje de datos faltantes de las columnas.\n"
      ],
      "metadata": {
        "id": "C1aSBdxqtY16"
      }
    },
    {
      "cell_type": "code",
      "execution_count": 7,
      "metadata": {
        "colab": {
          "base_uri": "https://localhost:8080/"
        },
        "id": "5-pqRORoFdSW",
        "outputId": "49939337-8043-4753-e54b-879a4e1a9cbd"
      },
      "outputs": [
        {
          "output_type": "stream",
          "name": "stdout",
          "text": [
            "Ingrés / Despesa - 0%\n",
            "Subsector - 0%\n",
            "Agrupació - 17%\n",
            "Secció - 71%\n",
            "Codi Entitat - 0%\n",
            "Nom Entitat - 0%\n",
            "Codi Servei - 0%\n",
            "Nom Servei - 2%\n",
            "Capítol - 0%\n",
            "Article - 0%\n",
            "Concepte - 0%\n",
            "Aplicacio - 0%\n",
            "Nom Aplicació - 0%\n",
            "Àrea - 0%\n",
            "Política - 0%\n",
            "Programa - 0%\n",
            "Nom Programa - 17%\n",
            "Posició pressupostària - 0%\n",
            "Finançament afectat - 93%\n",
            "Import sense consolidar - 0%\n",
            "Import consolidat sector públic - 0%\n",
            "Entitat del sector públic - 2%\n"
          ]
        }
      ],
      "source": [
        "for col in df.columns:\n",
        "    pct_missing = np.mean(df[col].isnull())\n",
        "    print('{} - {}%'.format(col, round(pct_missing*100)))"
      ]
    },
    {
      "cell_type": "markdown",
      "source": [
        "Eliminamos aquellas que tienen un alto porcentaje de datos faltantes."
      ],
      "metadata": {
        "id": "tgIVzoletmRN"
      }
    },
    {
      "cell_type": "code",
      "execution_count": 8,
      "metadata": {
        "id": "_hTe679PGY1a"
      },
      "outputs": [],
      "source": [
        "import pandas as pd\n",
        "\n",
        "# Calculamos de nuevo el porcentaje de datos faltantes por columna\n",
        "porcentaje_faltantes_por_columna = (df.isnull().sum() / len(df)) * 100\n",
        "\n",
        "# Establezco un umbral del 80%\n",
        "umbral = 80\n",
        "\n",
        "# Filtro las columnas que no superen el umbral de datos faltantes\n",
        "columnas_a_mantener = porcentaje_faltantes_por_columna[porcentaje_faltantes_por_columna <= umbral].index\n",
        "\n",
        "# Creo un nuevo DataFrame solo con las columnas a mantener\n",
        "df = df[columnas_a_mantener]\n",
        "\n",
        "# Ahora, 'df' contiene solo las columnas que no superan el umbral de datos faltantes (80% o menos)."
      ]
    },
    {
      "cell_type": "markdown",
      "source": [
        "Volvemos a mirar el porcentaje de datos faltantes, tras eliminar aquellas columnas que superan el umbral de datos faltantes establecido previamente."
      ],
      "metadata": {
        "id": "Q-1fSo09tyoV"
      }
    },
    {
      "cell_type": "code",
      "execution_count": 9,
      "metadata": {
        "colab": {
          "base_uri": "https://localhost:8080/"
        },
        "id": "-m4xhR5QGcP7",
        "outputId": "c476d639-0e0c-4da9-f55c-4bd43491a881"
      },
      "outputs": [
        {
          "output_type": "stream",
          "name": "stdout",
          "text": [
            "Ingrés / Despesa - 0%\n",
            "Subsector - 0%\n",
            "Agrupació - 17%\n",
            "Secció - 71%\n",
            "Codi Entitat - 0%\n",
            "Nom Entitat - 0%\n",
            "Codi Servei - 0%\n",
            "Nom Servei - 2%\n",
            "Capítol - 0%\n",
            "Article - 0%\n",
            "Concepte - 0%\n",
            "Aplicacio - 0%\n",
            "Nom Aplicació - 0%\n",
            "Àrea - 0%\n",
            "Política - 0%\n",
            "Programa - 0%\n",
            "Nom Programa - 17%\n",
            "Posició pressupostària - 0%\n",
            "Import sense consolidar - 0%\n",
            "Import consolidat sector públic - 0%\n",
            "Entitat del sector públic - 2%\n"
          ]
        }
      ],
      "source": [
        "for col in df.columns:\n",
        "    pct_missing = np.mean(df[col].isnull())\n",
        "    print('{} - {}%'.format(col, round(pct_missing*100)))"
      ]
    },
    {
      "cell_type": "markdown",
      "source": [
        "Ahora seguimos el mismo proceso, pero con las filas."
      ],
      "metadata": {
        "id": "5AiP1AtBuAEs"
      }
    },
    {
      "cell_type": "code",
      "execution_count": 10,
      "metadata": {
        "colab": {
          "base_uri": "https://localhost:8080/"
        },
        "id": "40kyn7sNHD-o",
        "outputId": "f140abb5-cace-4ab4-e4ae-c1ae19d8a65c"
      },
      "outputs": [
        {
          "output_type": "stream",
          "name": "stdout",
          "text": [
            "Longitud original: 15893\n",
            "Longitud después de la eliminación: 15814\n"
          ]
        }
      ],
      "source": [
        "print(\"Longitud original:\", len(df))\n",
        "# Calculo el porcentaje de datos faltantes por fila\n",
        "porcentaje_faltantes_por_fila = (df.isnull().sum(axis=1) / len(df.columns)) * 100\n",
        "\n",
        "# Establezco un umbral del 15%\n",
        "umbral = 15\n",
        "\n",
        "# Elimino las filas que superen el umbral de datos faltantes\n",
        "df = df.dropna(thresh=len(df.columns) - (umbral / 100 * len(df.columns)))\n",
        "\n",
        "# Verifico la longitud después de la eliminación\n",
        "print(\"Longitud después de la eliminación:\", len(df))"
      ]
    },
    {
      "cell_type": "markdown",
      "source": [
        "Repito el proceso varias veces, hasta conseguir anular ese porcentaje."
      ],
      "metadata": {
        "id": "lv76e_45uOat"
      }
    },
    {
      "cell_type": "code",
      "execution_count": 11,
      "metadata": {
        "colab": {
          "base_uri": "https://localhost:8080/"
        },
        "id": "1inz5HZhHMWV",
        "outputId": "2cdbd457-0e4f-4f1f-d36c-99de22b92ae9"
      },
      "outputs": [
        {
          "output_type": "stream",
          "name": "stdout",
          "text": [
            "Ingrés / Despesa - 0%\n",
            "Subsector - 0%\n",
            "Agrupació - 17%\n",
            "Secció - 71%\n",
            "Codi Entitat - 0%\n",
            "Nom Entitat - 0%\n",
            "Codi Servei - 0%\n",
            "Nom Servei - 2%\n",
            "Capítol - 0%\n",
            "Article - 0%\n",
            "Concepte - 0%\n",
            "Aplicacio - 0%\n",
            "Nom Aplicació - 0%\n",
            "Àrea - 0%\n",
            "Política - 0%\n",
            "Programa - 0%\n",
            "Nom Programa - 17%\n",
            "Posició pressupostària - 0%\n",
            "Import sense consolidar - 0%\n",
            "Import consolidat sector públic - 0%\n",
            "Entitat del sector públic - 2%\n"
          ]
        }
      ],
      "source": [
        "for col in df.columns:\n",
        "    pct_missing = np.mean(df[col].isnull())\n",
        "    print('{} - {}%'.format(col, round(pct_missing*100)))"
      ]
    },
    {
      "cell_type": "markdown",
      "source": [
        "Elimino la columna \"Secció\" porque sigue teniendo un alto porcentaje de datos faltantes.\n"
      ],
      "metadata": {
        "id": "1SdeM-apuQEG"
      }
    },
    {
      "cell_type": "code",
      "execution_count": 12,
      "metadata": {
        "id": "a-iNRkBvHUt6"
      },
      "outputs": [],
      "source": [
        "to_drop=['Secció']\n",
        "df.drop(to_drop, inplace=True, axis=1)"
      ]
    },
    {
      "cell_type": "code",
      "execution_count": 13,
      "metadata": {
        "colab": {
          "base_uri": "https://localhost:8080/"
        },
        "id": "vnpaa778ICji",
        "outputId": "97fcb9ac-a718-47a2-e1cd-871041c6d068"
      },
      "outputs": [
        {
          "output_type": "stream",
          "name": "stdout",
          "text": [
            "Longitud original: 15814\n",
            "Longitud después de la eliminación: 13177\n"
          ]
        }
      ],
      "source": [
        "print(\"Longitud original:\", len(df))\n",
        "# Calculo el porcentaje de datos faltantes por fila\n",
        "porcentaje_faltantes_por_fila = (df.isnull().sum(axis=1) / len(df.columns)) * 100\n",
        "\n",
        "# Establezco un umbral del 5%\n",
        "umbral = 5\n",
        "\n",
        "# Elimino las filas que superen el umbral de datos faltantes\n",
        "df = df.dropna(thresh=len(df.columns) - (umbral / 100 * len(df.columns)))\n",
        "\n",
        "# Verific la longitud después de la eliminación\n",
        "print(\"Longitud después de la eliminación:\", len(df))"
      ]
    },
    {
      "cell_type": "code",
      "execution_count": 14,
      "metadata": {
        "colab": {
          "base_uri": "https://localhost:8080/"
        },
        "id": "U9SlhDkfJcY7",
        "outputId": "92577bd0-6cf5-4f7a-c4f8-30515bd2dcf2"
      },
      "outputs": [
        {
          "output_type": "stream",
          "name": "stdout",
          "text": [
            "Ingrés / Despesa - 0%\n",
            "Subsector - 0%\n",
            "Agrupació - 0%\n",
            "Codi Entitat - 0%\n",
            "Nom Entitat - 0%\n",
            "Codi Servei - 0%\n",
            "Nom Servei - 0%\n",
            "Capítol - 0%\n",
            "Article - 0%\n",
            "Concepte - 0%\n",
            "Aplicacio - 0%\n",
            "Nom Aplicació - 0%\n",
            "Àrea - 0%\n",
            "Política - 0%\n",
            "Programa - 0%\n",
            "Nom Programa - 0%\n",
            "Posició pressupostària - 0%\n",
            "Import sense consolidar - 0%\n",
            "Import consolidat sector públic - 0%\n",
            "Entitat del sector públic - 2%\n"
          ]
        }
      ],
      "source": [
        "for col in df.columns:\n",
        "    pct_missing = np.mean(df[col].isnull())\n",
        "    print('{} - {}%'.format(col, round(pct_missing*100)))"
      ]
    },
    {
      "cell_type": "code",
      "execution_count": 15,
      "metadata": {
        "id": "u4fLAMriJza-"
      },
      "outputs": [],
      "source": [
        "to_drop=['Entitat del sector públic']\n",
        "df.drop(to_drop, inplace=True, axis=1)"
      ]
    },
    {
      "cell_type": "code",
      "execution_count": 16,
      "metadata": {
        "colab": {
          "base_uri": "https://localhost:8080/"
        },
        "id": "F-XcwjbcJ_gx",
        "outputId": "0165f907-8265-4003-a27e-64f93534f6c8"
      },
      "outputs": [
        {
          "output_type": "stream",
          "name": "stdout",
          "text": [
            "['Codi Entitat' 'Capítol' 'Article' 'Concepte' 'Aplicacio' 'Àrea'\n",
            " 'Política' 'Programa' 'Import sense consolidar'\n",
            " 'Import consolidat sector públic']\n"
          ]
        }
      ],
      "source": [
        "df_numeric = df.select_dtypes(include=[np.number])\n",
        "numeric_cols = df_numeric.columns.values\n",
        "print(numeric_cols)"
      ]
    },
    {
      "cell_type": "code",
      "execution_count": 17,
      "metadata": {
        "colab": {
          "base_uri": "https://localhost:8080/"
        },
        "id": "h7ZYp7BcKCFA",
        "outputId": "5939fd32-8e43-4793-be05-c7c7ddb16492"
      },
      "outputs": [
        {
          "output_type": "stream",
          "name": "stdout",
          "text": [
            "(13177, 19)\n",
            "Ingrés / Despesa                    object\n",
            "Subsector                           object\n",
            "Agrupació                           object\n",
            "Codi Entitat                         int64\n",
            "Nom Entitat                         object\n",
            "Codi Servei                         object\n",
            "Nom Servei                          object\n",
            "Capítol                              int64\n",
            "Article                              int64\n",
            "Concepte                             int64\n",
            "Aplicacio                            int64\n",
            "Nom Aplicació                       object\n",
            "Àrea                                 int64\n",
            "Política                             int64\n",
            "Programa                             int64\n",
            "Nom Programa                        object\n",
            "Posició pressupostària              object\n",
            "Import sense consolidar            float64\n",
            "Import consolidat sector públic    float64\n",
            "dtype: object\n"
          ]
        }
      ],
      "source": [
        "print(df.shape)\n",
        "print(df.dtypes)"
      ]
    },
    {
      "cell_type": "markdown",
      "source": [
        "Vamos a detectar los valores atípicos (Outlier) a través de gráficos boxplots.\n"
      ],
      "metadata": {
        "id": "iGFBdRw2wlVT"
      }
    },
    {
      "cell_type": "code",
      "execution_count": 18,
      "metadata": {
        "colab": {
          "base_uri": "https://localhost:8080/",
          "height": 1000
        },
        "id": "MWn2HxbdR0l6",
        "outputId": "0e08913a-ba48-4ebf-e099-7426568526cb"
      },
      "outputs": [
        {
          "output_type": "display_data",
          "data": {
            "text/plain": [
              "<Figure size 1000x800 with 1 Axes>"
            ],
            "image/png": "[encoded data removed]"
          },
          "metadata": {}
        },
        {
          "output_type": "display_data",
          "data": {
            "text/plain": [
              "<Figure size 1000x800 with 1 Axes>"
            ],
            "image/png": "[encoded data removed]"
          },
          "metadata": {}
        },
        {
          "output_type": "display_data",
          "data": {
            "text/plain": [
              "<Figure size 1000x800 with 1 Axes>"
            ],
            "image/png": "[encoded data removed]"
          },
          "metadata": {}
        },
        {
          "output_type": "display_data",
          "data": {
            "text/plain": [
              "<Figure size 1000x800 with 1 Axes>"
            ],
            "image/png": "[encoded data removed]"
          },
          "metadata": {}
        },
        {
          "output_type": "display_data",
          "data": {
            "text/plain": [
              "<Figure size 1000x800 with 1 Axes>"
            ],
            "image/png": "[encoded data removed]"
          },
          "metadata": {}
        },
        {
          "output_type": "display_data",
          "data": {
            "text/plain": [
              "<Figure size 1000x800 with 1 Axes>"
            ],
            "image/png": "[encoded data removed]"
          },
          "metadata": {}
        },
        {
          "output_type": "display_data",
          "data": {
            "text/plain": [
              "<Figure size 1000x800 with 1 Axes>"
            ],
            "image/png": "[encoded data removed]"
          },
          "metadata": {}
        },
        {
          "output_type": "display_data",
          "data": {
            "text/plain": [
              "<Figure size 1000x800 with 1 Axes>"
            ],
            "image/png": "[encoded data removed]"
          },
          "metadata": {}
        },
        {
          "output_type": "display_data",
          "data": {
            "text/plain": [
              "<Figure size 1000x800 with 1 Axes>"
            ],
            "image/png": "[encoded data removed]"
          },
          "metadata": {}
        },
        {
          "output_type": "display_data",
          "data": {
            "text/plain": [
              "<Figure size 1000x800 with 1 Axes>"
            ],
            "image/png": "[encoded data removed]"
          },
          "metadata": {}
        }
      ],
      "source": [
        "#Uso de gráficos como boxplots para detectar valores atípicos.\n",
        "\n",
        "import matplotlib.pyplot as plt\n",
        "\n",
        "for col in df_numeric.columns:\n",
        "  plt.figure()\n",
        "  sns.boxplot(x=df[col])\n",
        "  plt.title(f'Boxplot of {col}')\n",
        "  plt.show()\n"
      ]
    },
    {
      "cell_type": "markdown",
      "source": [
        "# PROCESO KDD"
      ],
      "metadata": {
        "id": "HxkFycgrxHCn"
      }
    },
    {
      "cell_type": "markdown",
      "source": [
        "# ETAPA 1: Selección de datos"
      ],
      "metadata": {
        "id": "ubAJB1jNw6RM"
      }
    },
    {
      "cell_type": "code",
      "execution_count": 18,
      "metadata": {
        "id": "-8EVGr5Nakuh"
      },
      "outputs": [],
      "source": [
        "# Creamos un nuevo archivo solo con las variables numéricas\n",
        "\n",
        "import numpy as np\n",
        "# Creamos un nuevo DataFrame solo co las columnas numéricas\n",
        "df_numeric = df.select_dtypes(include=[np.number])\n",
        "\n",
        "# Lo guardamos en un nuevo archivo\n",
        "df_numeric.to_csv('/content/drive/MyDrive/datosTFM/Cataluña/LLEI_2022_numeric.csv', index=False)\n"
      ]
    },
    {
      "cell_type": "code",
      "execution_count": 19,
      "metadata": {
        "colab": {
          "base_uri": "https://localhost:8080/",
          "height": 423
        },
        "id": "hgGkDRHFKTUy",
        "outputId": "6f191921-a183-4ce9-b4ca-4e6876246589"
      },
      "outputs": [
        {
          "output_type": "execute_result",
          "data": {
            "text/plain": [
              "       Codi Entitat  Capítol  Article  Concepte  Aplicacio  Àrea  Política  \\\n",
              "0              1000        1       10       100    1000001     1        12   \n",
              "1              1000        1       10       100    1000002     1        12   \n",
              "2              1000        1       11       110    1100001     1        12   \n",
              "3              1000        1       11       110    1100002     1        12   \n",
              "4              1000        1       12       120    1200001     1        12   \n",
              "...             ...      ...      ...       ...        ...   ...       ...   \n",
              "13172          9984        2       22       226    2260089     5        52   \n",
              "13173          9984        2       22       227    2270013     5        52   \n",
              "13174          9984        3       31       310    3100002     5        52   \n",
              "13175          9984        3       31       319    3190001     5        52   \n",
              "13176          9984        6       63       630    6300001     5        52   \n",
              "\n",
              "       Programa  Import sense consolidar  Import consolidat sector públic  \n",
              "0           121                587659.90                        587659.90  \n",
              "1           121                616290.72                        616290.72  \n",
              "2           121                141785.46                        141785.46  \n",
              "3           121                369407.18                        369407.18  \n",
              "4           121              31867284.20                      31867284.20  \n",
              "...         ...                      ...                              ...  \n",
              "13172       526               5853812.84                       5853812.84  \n",
              "13173       526                175000.00                        175000.00  \n",
              "13174       526                563223.56                        563223.56  \n",
              "13175       526                907200.00                        907200.00  \n",
              "13176       526              27000000.00                      27000000.00  \n",
              "\n",
              "[13177 rows x 10 columns]"
            ],
            "text/html": [
              "\n",
              "  <div id=\"df-3069db2b-504d-428e-b932-b0dbe71d5322\" class=\"colab-df-container\">\n",
              "    <div>\n",
              "<style scoped>\n",
              "    .dataframe tbody tr th:only-of-type {\n",
              "        vertical-align: middle;\n",
              "    }\n",
              "\n",
              "    .dataframe tbody tr th {\n",
              "        vertical-align: top;\n",
              "    }\n",
              "\n",
              "    .dataframe thead th {\n",
              "        text-align: right;\n",
              "    }\n",
              "</style>\n",
              "<table border=\"1\" class=\"dataframe\">\n",
              "  <thead>\n",
              "    <tr style=\"text-align: right;\">\n",
              "      <th></th>\n",
              "      <th>Codi Entitat</th>\n",
              "      <th>Capítol</th>\n",
              "      <th>Article</th>\n",
              "      <th>Concepte</th>\n",
              "      <th>Aplicacio</th>\n",
              "      <th>Àrea</th>\n",
              "      <th>Política</th>\n",
              "      <th>Programa</th>\n",
              "      <th>Import sense consolidar</th>\n",
              "      <th>Import consolidat sector públic</th>\n",
              "    </tr>\n",
              "  </thead>\n",
              "  <tbody>\n",
              "    <tr>\n",
              "      <th>0</th>\n",
              "      <td>1000</td>\n",
              "      <td>1</td>\n",
              "      <td>10</td>\n",
              "      <td>100</td>\n",
              "      <td>1000001</td>\n",
              "      <td>1</td>\n",
              "      <td>12</td>\n",
              "      <td>121</td>\n",
              "      <td>587659.90</td>\n",
              "      <td>587659.90</td>\n",
              "    </tr>\n",
              "    <tr>\n",
              "      <th>1</th>\n",
              "      <td>1000</td>\n",
              "      <td>1</td>\n",
              "      <td>10</td>\n",
              "      <td>100</td>\n",
              "      <td>1000002</td>\n",
              "      <td>1</td>\n",
              "      <td>12</td>\n",
              "      <td>121</td>\n",
              "      <td>616290.72</td>\n",
              "      <td>616290.72</td>\n",
              "    </tr>\n",
              "    <tr>\n",
              "      <th>2</th>\n",
              "      <td>1000</td>\n",
              "      <td>1</td>\n",
              "      <td>11</td>\n",
              "      <td>110</td>\n",
              "      <td>1100001</td>\n",
              "      <td>1</td>\n",
              "      <td>12</td>\n",
              "      <td>121</td>\n",
              "      <td>141785.46</td>\n",
              "      <td>141785.46</td>\n",
              "    </tr>\n",
              "    <tr>\n",
              "      <th>3</th>\n",
              "      <td>1000</td>\n",
              "      <td>1</td>\n",
              "      <td>11</td>\n",
              "      <td>110</td>\n",
              "      <td>1100002</td>\n",
              "      <td>1</td>\n",
              "      <td>12</td>\n",
              "      <td>121</td>\n",
              "      <td>369407.18</td>\n",
              "      <td>369407.18</td>\n",
              "    </tr>\n",
              "    <tr>\n",
              "      <th>4</th>\n",
              "      <td>1000</td>\n",
              "      <td>1</td>\n",
              "      <td>12</td>\n",
              "      <td>120</td>\n",
              "      <td>1200001</td>\n",
              "      <td>1</td>\n",
              "      <td>12</td>\n",
              "      <td>121</td>\n",
              "      <td>31867284.20</td>\n",
              "      <td>31867284.20</td>\n",
              "    </tr>\n",
              "    <tr>\n",
              "      <th>...</th>\n",
              "      <td>...</td>\n",
              "      <td>...</td>\n",
              "      <td>...</td>\n",
              "      <td>...</td>\n",
              "      <td>...</td>\n",
              "      <td>...</td>\n",
              "      <td>...</td>\n",
              "      <td>...</td>\n",
              "      <td>...</td>\n",
              "      <td>...</td>\n",
              "    </tr>\n",
              "    <tr>\n",
              "      <th>13172</th>\n",
              "      <td>9984</td>\n",
              "      <td>2</td>\n",
              "      <td>22</td>\n",
              "      <td>226</td>\n",
              "      <td>2260089</td>\n",
              "      <td>5</td>\n",
              "      <td>52</td>\n",
              "      <td>526</td>\n",
              "      <td>5853812.84</td>\n",
              "      <td>5853812.84</td>\n",
              "    </tr>\n",
              "    <tr>\n",
              "      <th>13173</th>\n",
              "      <td>9984</td>\n",
              "      <td>2</td>\n",
              "      <td>22</td>\n",
              "      <td>227</td>\n",
              "      <td>2270013</td>\n",
              "      <td>5</td>\n",
              "      <td>52</td>\n",
              "      <td>526</td>\n",
              "      <td>175000.00</td>\n",
              "      <td>175000.00</td>\n",
              "    </tr>\n",
              "    <tr>\n",
              "      <th>13174</th>\n",
              "      <td>9984</td>\n",
              "      <td>3</td>\n",
              "      <td>31</td>\n",
              "      <td>310</td>\n",
              "      <td>3100002</td>\n",
              "      <td>5</td>\n",
              "      <td>52</td>\n",
              "      <td>526</td>\n",
              "      <td>563223.56</td>\n",
              "      <td>563223.56</td>\n",
              "    </tr>\n",
              "    <tr>\n",
              "      <th>13175</th>\n",
              "      <td>9984</td>\n",
              "      <td>3</td>\n",
              "      <td>31</td>\n",
              "      <td>319</td>\n",
              "      <td>3190001</td>\n",
              "      <td>5</td>\n",
              "      <td>52</td>\n",
              "      <td>526</td>\n",
              "      <td>907200.00</td>\n",
              "      <td>907200.00</td>\n",
              "    </tr>\n",
              "    <tr>\n",
              "      <th>13176</th>\n",
              "      <td>9984</td>\n",
              "      <td>6</td>\n",
              "      <td>63</td>\n",
              "      <td>630</td>\n",
              "      <td>6300001</td>\n",
              "      <td>5</td>\n",
              "      <td>52</td>\n",
              "      <td>526</td>\n",
              "      <td>27000000.00</td>\n",
              "      <td>27000000.00</td>\n",
              "    </tr>\n",
              "  </tbody>\n",
              "</table>\n",
              "<p>13177 rows × 10 columns</p>\n",
              "</div>\n",
              "    <div class=\"colab-df-buttons\">\n",
              "\n",
              "  <div class=\"colab-df-container\">\n",
              "    <button class=\"colab-df-convert\" onclick=\"convertToInteractive('df-3069db2b-504d-428e-b932-b0dbe71d5322')\"\n",
              "            title=\"Convert this dataframe to an interactive table.\"\n",
              "            style=\"display:none;\">\n",
              "\n",
              "  <svg xmlns=\"http://www.w3.org/2000/svg\" height=\"24px\" viewBox=\"0 -960 960 960\">\n",
              "    <path d=\"M120-120v-720h720v720H120Zm60-500h600v-160H180v160Zm220 220h160v-160H400v160Zm0 220h160v-160H400v160ZM180-400h160v-160H180v160Zm440 0h160v-160H620v160ZM180-180h160v-160H180v160Zm440 0h160v-160H620v160Z\"/>\n",
              "  </svg>\n",
              "    </button>\n",
              "\n",
              "  <style>\n",
              "    .colab-df-container {\n",
              "      display:flex;\n",
              "      gap: 12px;\n",
              "    }\n",
              "\n",
              "    .colab-df-convert {\n",
              "      background-color: #E8F0FE;\n",
              "      border: none;\n",
              "      border-radius: 50%;\n",
              "      cursor: pointer;\n",
              "      display: none;\n",
              "      fill: #1967D2;\n",
              "      height: 32px;\n",
              "      padding: 0 0 0 0;\n",
              "      width: 32px;\n",
              "    }\n",
              "\n",
              "    .colab-df-convert:hover {\n",
              "      background-color: #E2EBFA;\n",
              "      box-shadow: 0px 1px 2px rgba(60, 64, 67, 0.3), 0px 1px 3px 1px rgba(60, 64, 67, 0.15);\n",
              "      fill: #174EA6;\n",
              "    }\n",
              "\n",
              "    .colab-df-buttons div {\n",
              "      margin-bottom: 4px;\n",
              "    }\n",
              "\n",
              "    [theme=dark] .colab-df-convert {\n",
              "      background-color: #3B4455;\n",
              "      fill: #D2E3FC;\n",
              "    }\n",
              "\n",
              "    [theme=dark] .colab-df-convert:hover {\n",
              "      background-color: #434B5C;\n",
              "      box-shadow: 0px 1px 3px 1px rgba(0, 0, 0, 0.15);\n",
              "      filter: drop-shadow(0px 1px 2px rgba(0, 0, 0, 0.3));\n",
              "      fill: #FFFFFF;\n",
              "    }\n",
              "  </style>\n",
              "\n",
              "    <script>\n",
              "      const buttonEl =\n",
              "        document.querySelector('#df-3069db2b-504d-428e-b932-b0dbe71d5322 button.colab-df-convert');\n",
              "      buttonEl.style.display =\n",
              "        google.colab.kernel.accessAllowed ? 'block' : 'none';\n",
              "\n",
              "      async function convertToInteractive(key) {\n",
              "        const element = document.querySelector('#df-3069db2b-504d-428e-b932-b0dbe71d5322');\n",
              "        const dataTable =\n",
              "          await google.colab.kernel.invokeFunction('convertToInteractive',\n",
              "                                                    [key], {});\n",
              "        if (!dataTable) return;\n",
              "\n",
              "        const docLinkHtml = 'Like what you see? Visit the ' +\n",
              "          '<a target=\"_blank\" href=https://colab.research.google.com/notebooks/data_table.ipynb>data table notebook</a>'\n",
              "          + ' to learn more about interactive tables.';\n",
              "        element.innerHTML = '';\n",
              "        dataTable['output_type'] = 'display_data';\n",
              "        await google.colab.output.renderOutput(dataTable, element);\n",
              "        const docLink = document.createElement('div');\n",
              "        docLink.innerHTML = docLinkHtml;\n",
              "        element.appendChild(docLink);\n",
              "      }\n",
              "    </script>\n",
              "  </div>\n",
              "\n",
              "\n",
              "<div id=\"df-9224b875-da4a-4ac9-9504-6a4af3415697\">\n",
              "  <button class=\"colab-df-quickchart\" onclick=\"quickchart('df-9224b875-da4a-4ac9-9504-6a4af3415697')\"\n",
              "            title=\"Suggest charts\"\n",
              "            style=\"display:none;\">\n",
              "\n",
              "<svg xmlns=\"http://www.w3.org/2000/svg\" height=\"24px\"viewBox=\"0 0 24 24\"\n",
              "     width=\"24px\">\n",
              "    <g>\n",
              "        <path d=\"M19 3H5c-1.1 0-2 .9-2 2v14c0 1.1.9 2 2 2h14c1.1 0 2-.9 2-2V5c0-1.1-.9-2-2-2zM9 17H7v-7h2v7zm4 0h-2V7h2v10zm4 0h-2v-4h2v4z\"/>\n",
              "    </g>\n",
              "</svg>\n",
              "  </button>\n",
              "\n",
              "<style>\n",
              "  .colab-df-quickchart {\n",
              "      --bg-color: #E8F0FE;\n",
              "      --fill-color: #1967D2;\n",
              "      --hover-bg-color: #E2EBFA;\n",
              "      --hover-fill-color: #174EA6;\n",
              "      --disabled-fill-color: #AAA;\n",
              "      --disabled-bg-color: #DDD;\n",
              "  }\n",
              "\n",
              "  [theme=dark] .colab-df-quickchart {\n",
              "      --bg-color: #3B4455;\n",
              "      --fill-color: #D2E3FC;\n",
              "      --hover-bg-color: #434B5C;\n",
              "      --hover-fill-color: #FFFFFF;\n",
              "      --disabled-bg-color: #3B4455;\n",
              "      --disabled-fill-color: #666;\n",
              "  }\n",
              "\n",
              "  .colab-df-quickchart {\n",
              "    background-color: var(--bg-color);\n",
              "    border: none;\n",
              "    border-radius: 50%;\n",
              "    cursor: pointer;\n",
              "    display: none;\n",
              "    fill: var(--fill-color);\n",
              "    height: 32px;\n",
              "    padding: 0;\n",
              "    width: 32px;\n",
              "  }\n",
              "\n",
              "  .colab-df-quickchart:hover {\n",
              "    background-color: var(--hover-bg-color);\n",
              "    box-shadow: 0 1px 2px rgba(60, 64, 67, 0.3), 0 1px 3px 1px rgba(60, 64, 67, 0.15);\n",
              "    fill: var(--button-hover-fill-color);\n",
              "  }\n",
              "\n",
              "  .colab-df-quickchart-complete:disabled,\n",
              "  .colab-df-quickchart-complete:disabled:hover {\n",
              "    background-color: var(--disabled-bg-color);\n",
              "    fill: var(--disabled-fill-color);\n",
              "    box-shadow: none;\n",
              "  }\n",
              "\n",
              "  .colab-df-spinner {\n",
              "    border: 2px solid var(--fill-color);\n",
              "    border-color: transparent;\n",
              "    border-bottom-color: var(--fill-color);\n",
              "    animation:\n",
              "      spin 1s steps(1) infinite;\n",
              "  }\n",
              "\n",
              "  @keyframes spin {\n",
              "    0% {\n",
              "      border-color: transparent;\n",
              "      border-bottom-color: var(--fill-color);\n",
              "      border-left-color: var(--fill-color);\n",
              "    }\n",
              "    20% {\n",
              "      border-color: transparent;\n",
              "      border-left-color: var(--fill-color);\n",
              "      border-top-color: var(--fill-color);\n",
              "    }\n",
              "    30% {\n",
              "      border-color: transparent;\n",
              "      border-left-color: var(--fill-color);\n",
              "      border-top-color: var(--fill-color);\n",
              "      border-right-color: var(--fill-color);\n",
              "    }\n",
              "    40% {\n",
              "      border-color: transparent;\n",
              "      border-right-color: var(--fill-color);\n",
              "      border-top-color: var(--fill-color);\n",
              "    }\n",
              "    60% {\n",
              "      border-color: transparent;\n",
              "      border-right-color: var(--fill-color);\n",
              "    }\n",
              "    80% {\n",
              "      border-color: transparent;\n",
              "      border-right-color: var(--fill-color);\n",
              "      border-bottom-color: var(--fill-color);\n",
              "    }\n",
              "    90% {\n",
              "      border-color: transparent;\n",
              "      border-bottom-color: var(--fill-color);\n",
              "    }\n",
              "  }\n",
              "</style>\n",
              "\n",
              "  <script>\n",
              "    async function quickchart(key) {\n",
              "      const quickchartButtonEl =\n",
              "        document.querySelector('#' + key + ' button');\n",
              "      quickchartButtonEl.disabled = true;  // To prevent multiple clicks.\n",
              "      quickchartButtonEl.classList.add('colab-df-spinner');\n",
              "      try {\n",
              "        const charts = await google.colab.kernel.invokeFunction(\n",
              "            'suggestCharts', [key], {});\n",
              "      } catch (error) {\n",
              "        console.error('Error during call to suggestCharts:', error);\n",
              "      }\n",
              "      quickchartButtonEl.classList.remove('colab-df-spinner');\n",
              "      quickchartButtonEl.classList.add('colab-df-quickchart-complete');\n",
              "    }\n",
              "    (() => {\n",
              "      let quickchartButtonEl =\n",
              "        document.querySelector('#df-9224b875-da4a-4ac9-9504-6a4af3415697 button');\n",
              "      quickchartButtonEl.style.display =\n",
              "        google.colab.kernel.accessAllowed ? 'block' : 'none';\n",
              "    })();\n",
              "  </script>\n",
              "</div>\n",
              "\n",
              "  <div id=\"id_ce4d96ab-78ad-47b6-964b-271d690aba00\">\n",
              "    <style>\n",
              "      .colab-df-generate {\n",
              "        background-color: #E8F0FE;\n",
              "        border: none;\n",
              "        border-radius: 50%;\n",
              "        cursor: pointer;\n",
              "        display: none;\n",
              "        fill: #1967D2;\n",
              "        height: 32px;\n",
              "        padding: 0 0 0 0;\n",
              "        width: 32px;\n",
              "      }\n",
              "\n",
              "      .colab-df-generate:hover {\n",
              "        background-color: #E2EBFA;\n",
              "        box-shadow: 0px 1px 2px rgba(60, 64, 67, 0.3), 0px 1px 3px 1px rgba(60, 64, 67, 0.15);\n",
              "        fill: #174EA6;\n",
              "      }\n",
              "\n",
              "      [theme=dark] .colab-df-generate {\n",
              "        background-color: #3B4455;\n",
              "        fill: #D2E3FC;\n",
              "      }\n",
              "\n",
              "      [theme=dark] .colab-df-generate:hover {\n",
              "        background-color: #434B5C;\n",
              "        box-shadow: 0px 1px 3px 1px rgba(0, 0, 0, 0.15);\n",
              "        filter: drop-shadow(0px 1px 2px rgba(0, 0, 0, 0.3));\n",
              "        fill: #FFFFFF;\n",
              "      }\n",
              "    </style>\n",
              "    <button class=\"colab-df-generate\" onclick=\"generateWithVariable('df_numeric')\"\n",
              "            title=\"Generate code using this dataframe.\"\n",
              "            style=\"display:none;\">\n",
              "\n",
              "  <svg xmlns=\"http://www.w3.org/2000/svg\" height=\"24px\"viewBox=\"0 0 24 24\"\n",
              "       width=\"24px\">\n",
              "    <path d=\"M7,19H8.4L18.45,9,17,7.55,7,17.6ZM5,21V16.75L18.45,3.32a2,2,0,0,1,2.83,0l1.4,1.43a1.91,1.91,0,0,1,.58,1.4,1.91,1.91,0,0,1-.58,1.4L9.25,21ZM18.45,9,17,7.55Zm-12,3A5.31,5.31,0,0,0,4.9,8.1,5.31,5.31,0,0,0,1,6.5,5.31,5.31,0,0,0,4.9,4.9,5.31,5.31,0,0,0,6.5,1,5.31,5.31,0,0,0,8.1,4.9,5.31,5.31,0,0,0,12,6.5,5.46,5.46,0,0,0,6.5,12Z\"/>\n",
              "  </svg>\n",
              "    </button>\n",
              "    <script>\n",
              "      (() => {\n",
              "      const buttonEl =\n",
              "        document.querySelector('#id_ce4d96ab-78ad-47b6-964b-271d690aba00 button.colab-df-generate');\n",
              "      buttonEl.style.display =\n",
              "        google.colab.kernel.accessAllowed ? 'block' : 'none';\n",
              "\n",
              "      buttonEl.onclick = () => {\n",
              "        google.colab.notebook.generateWithVariable('df_numeric');\n",
              "      }\n",
              "      })();\n",
              "    </script>\n",
              "  </div>\n",
              "\n",
              "    </div>\n",
              "  </div>\n"
            ],
            "application/vnd.google.colaboratory.intrinsic+json": {
              "type": "dataframe",
              "variable_name": "df_numeric",
              "summary": "{\n  \"name\": \"df_numeric\",\n  \"rows\": 13177,\n  \"fields\": [\n    {\n      \"column\": \"Codi Entitat\",\n      \"properties\": {\n        \"dtype\": \"number\",\n        \"std\": 3088,\n        \"min\": 1000,\n        \"max\": 9984,\n        \"num_unique_values\": 216,\n        \"samples\": [\n          9418,\n          9956,\n          7940\n        ],\n        \"semantic_type\": \"\",\n        \"description\": \"\"\n      }\n    },\n    {\n      \"column\": \"Cap\\u00edtol\",\n      \"properties\": {\n        \"dtype\": \"number\",\n        \"std\": 1,\n        \"min\": 1,\n        \"max\": 9,\n        \"num_unique_values\": 9,\n        \"samples\": [\n          9,\n          2,\n          8\n        ],\n        \"semantic_type\": \"\",\n        \"description\": \"\"\n      }\n    },\n    {\n      \"column\": \"Article\",\n      \"properties\": {\n        \"dtype\": \"number\",\n        \"std\": 17,\n        \"min\": 10,\n        \"max\": 95,\n        \"num_unique_values\": 53,\n        \"samples\": [\n          73,\n          32,\n          70\n        ],\n        \"semantic_type\": \"\",\n        \"description\": \"\"\n      }\n    },\n    {\n      \"column\": \"Concepte\",\n      \"properties\": {\n        \"dtype\": \"number\",\n        \"std\": 174,\n        \"min\": 100,\n        \"max\": 951,\n        \"num_unique_values\": 143,\n        \"samples\": [\n          409,\n          225,\n          876\n        ],\n        \"semantic_type\": \"\",\n        \"description\": \"\"\n      }\n    },\n    {\n      \"column\": \"Aplicacio\",\n      \"properties\": {\n        \"dtype\": \"number\",\n        \"std\": 1741362,\n        \"min\": 1000001,\n        \"max\": 9510001,\n        \"num_unique_values\": 793,\n        \"samples\": [\n          4820076,\n          8310001,\n          4820060\n        ],\n        \"semantic_type\": \"\",\n        \"description\": \"\"\n      }\n    },\n    {\n      \"column\": \"\\u00c0rea\",\n      \"properties\": {\n        \"dtype\": \"number\",\n        \"std\": 1,\n        \"min\": 1,\n        \"max\": 9,\n        \"num_unique_values\": 9,\n        \"samples\": [\n          8,\n          3,\n          2\n        ],\n        \"semantic_type\": \"\",\n        \"description\": \"\"\n      }\n    },\n    {\n      \"column\": \"Pol\\u00edtica\",\n      \"properties\": {\n        \"dtype\": \"number\",\n        \"std\": 16,\n        \"min\": 11,\n        \"max\": 91,\n        \"num_unique_values\": 35,\n        \"samples\": [\n          81,\n          44,\n          23\n        ],\n        \"semantic_type\": \"\",\n        \"description\": \"\"\n      }\n    },\n    {\n      \"column\": \"Programa\",\n      \"properties\": {\n        \"dtype\": \"number\",\n        \"std\": 169,\n        \"min\": 111,\n        \"max\": 911,\n        \"num_unique_values\": 106,\n        \"samples\": [\n          411,\n          571,\n          631\n        ],\n        \"semantic_type\": \"\",\n        \"description\": \"\"\n      }\n    },\n    {\n      \"column\": \"Import sense consolidar\",\n      \"properties\": {\n        \"dtype\": \"number\",\n        \"std\": 130157934.32737471,\n        \"min\": -50000000.0,\n        \"max\": 9871796482.59,\n        \"num_unique_values\": 7807,\n        \"samples\": [\n          325844.61,\n          47800.0,\n          80550.0\n        ],\n        \"semantic_type\": \"\",\n        \"description\": \"\"\n      }\n    },\n    {\n      \"column\": \"Import consolidat sector p\\u00fablic\",\n      \"properties\": {\n        \"dtype\": \"number\",\n        \"std\": 95268295.4366667,\n        \"min\": -50000000.0,\n        \"max\": 9871796482.59,\n        \"num_unique_values\": 6649,\n        \"samples\": [\n          35324.1,\n          281000.0,\n          352707.92\n        ],\n        \"semantic_type\": \"\",\n        \"description\": \"\"\n      }\n    }\n  ]\n}"
            }
          },
          "metadata": {},
          "execution_count": 19
        }
      ],
      "source": [
        "df_numeric"
      ]
    },
    {
      "cell_type": "markdown",
      "source": [
        "# ETAPA 2: Limpieza de datos"
      ],
      "metadata": {
        "id": "-qBxHpi3zQH2"
      }
    },
    {
      "cell_type": "code",
      "source": [
        "# Detectamos y eliminamos los valores outlier\n",
        "\n",
        "z_scores = (df_numeric - df_numeric.mean()) / df_numeric.std()\n",
        "\n",
        "threshold = 3\n",
        "\n",
        "# Identificamos los outliers\n",
        "outliers = df_numeric[(z_scores > threshold) | (z_scores < -threshold)]\n",
        "\n",
        "# Eliminamos outliers del DataFrame\n",
        "df_no_outliers = df_numeric[~((z_scores > threshold) | (z_scores < -threshold)).any(axis=1)]\n",
        "\n",
        "\n",
        "print(f\"Nº de outlier eliminados: {len(outliers)}\")\n",
        "\n",
        "print(f\"Tamaño del DataFrame después de eliminar los outliers: {df_no_outliers.shape}\")\n"
      ],
      "metadata": {
        "colab": {
          "base_uri": "https://localhost:8080/"
        },
        "id": "ZmsjEXOEnj0g",
        "outputId": "34639432-2e17-477c-93dd-1c2f857c42c3"
      },
      "execution_count": 20,
      "outputs": [
        {
          "output_type": "stream",
          "name": "stdout",
          "text": [
            "Nº de outlier eliminados: 13177\n",
            "Tamaño del DataFrame después de eliminar los outliers: (12848, 10)\n"
          ]
        }
      ]
    },
    {
      "cell_type": "code",
      "source": [
        "df_no_outliers"
      ],
      "metadata": {
        "colab": {
          "base_uri": "https://localhost:8080/",
          "height": 423
        },
        "id": "VAYi_m7YpiTC",
        "outputId": "260f5c80-9560-432c-8b33-01819d8019a6"
      },
      "execution_count": 21,
      "outputs": [
        {
          "output_type": "execute_result",
          "data": {
            "text/plain": [
              "       Codi Entitat  Capítol  Article  Concepte  Aplicacio  Àrea  Política  \\\n",
              "0              1000        1       10       100    1000001     1        12   \n",
              "1              1000        1       10       100    1000002     1        12   \n",
              "2              1000        1       11       110    1100001     1        12   \n",
              "3              1000        1       11       110    1100002     1        12   \n",
              "4              1000        1       12       120    1200001     1        12   \n",
              "...             ...      ...      ...       ...        ...   ...       ...   \n",
              "13172          9984        2       22       226    2260089     5        52   \n",
              "13173          9984        2       22       227    2270013     5        52   \n",
              "13174          9984        3       31       310    3100002     5        52   \n",
              "13175          9984        3       31       319    3190001     5        52   \n",
              "13176          9984        6       63       630    6300001     5        52   \n",
              "\n",
              "       Programa  Import sense consolidar  Import consolidat sector públic  \n",
              "0           121                587659.90                        587659.90  \n",
              "1           121                616290.72                        616290.72  \n",
              "2           121                141785.46                        141785.46  \n",
              "3           121                369407.18                        369407.18  \n",
              "4           121              31867284.20                      31867284.20  \n",
              "...         ...                      ...                              ...  \n",
              "13172       526               5853812.84                       5853812.84  \n",
              "13173       526                175000.00                        175000.00  \n",
              "13174       526                563223.56                        563223.56  \n",
              "13175       526                907200.00                        907200.00  \n",
              "13176       526              27000000.00                      27000000.00  \n",
              "\n",
              "[12848 rows x 10 columns]"
            ],
            "text/html": [
              "\n",
              "  <div id=\"df-a25b107b-dc62-4493-9593-278b7551fddc\" class=\"colab-df-container\">\n",
              "    <div>\n",
              "<style scoped>\n",
              "    .dataframe tbody tr th:only-of-type {\n",
              "        vertical-align: middle;\n",
              "    }\n",
              "\n",
              "    .dataframe tbody tr th {\n",
              "        vertical-align: top;\n",
              "    }\n",
              "\n",
              "    .dataframe thead th {\n",
              "        text-align: right;\n",
              "    }\n",
              "</style>\n",
              "<table border=\"1\" class=\"dataframe\">\n",
              "  <thead>\n",
              "    <tr style=\"text-align: right;\">\n",
              "      <th></th>\n",
              "      <th>Codi Entitat</th>\n",
              "      <th>Capítol</th>\n",
              "      <th>Article</th>\n",
              "      <th>Concepte</th>\n",
              "      <th>Aplicacio</th>\n",
              "      <th>Àrea</th>\n",
              "      <th>Política</th>\n",
              "      <th>Programa</th>\n",
              "      <th>Import sense consolidar</th>\n",
              "      <th>Import consolidat sector públic</th>\n",
              "    </tr>\n",
              "  </thead>\n",
              "  <tbody>\n",
              "    <tr>\n",
              "      <th>0</th>\n",
              "      <td>1000</td>\n",
              "      <td>1</td>\n",
              "      <td>10</td>\n",
              "      <td>100</td>\n",
              "      <td>1000001</td>\n",
              "      <td>1</td>\n",
              "      <td>12</td>\n",
              "      <td>121</td>\n",
              "      <td>587659.90</td>\n",
              "      <td>587659.90</td>\n",
              "    </tr>\n",
              "    <tr>\n",
              "      <th>1</th>\n",
              "      <td>1000</td>\n",
              "      <td>1</td>\n",
              "      <td>10</td>\n",
              "      <td>100</td>\n",
              "      <td>1000002</td>\n",
              "      <td>1</td>\n",
              "      <td>12</td>\n",
              "      <td>121</td>\n",
              "      <td>616290.72</td>\n",
              "      <td>616290.72</td>\n",
              "    </tr>\n",
              "    <tr>\n",
              "      <th>2</th>\n",
              "      <td>1000</td>\n",
              "      <td>1</td>\n",
              "      <td>11</td>\n",
              "      <td>110</td>\n",
              "      <td>1100001</td>\n",
              "      <td>1</td>\n",
              "      <td>12</td>\n",
              "      <td>121</td>\n",
              "      <td>141785.46</td>\n",
              "      <td>141785.46</td>\n",
              "    </tr>\n",
              "    <tr>\n",
              "      <th>3</th>\n",
              "      <td>1000</td>\n",
              "      <td>1</td>\n",
              "      <td>11</td>\n",
              "      <td>110</td>\n",
              "      <td>1100002</td>\n",
              "      <td>1</td>\n",
              "      <td>12</td>\n",
              "      <td>121</td>\n",
              "      <td>369407.18</td>\n",
              "      <td>369407.18</td>\n",
              "    </tr>\n",
              "    <tr>\n",
              "      <th>4</th>\n",
              "      <td>1000</td>\n",
              "      <td>1</td>\n",
              "      <td>12</td>\n",
              "      <td>120</td>\n",
              "      <td>1200001</td>\n",
              "      <td>1</td>\n",
              "      <td>12</td>\n",
              "      <td>121</td>\n",
              "      <td>31867284.20</td>\n",
              "      <td>31867284.20</td>\n",
              "    </tr>\n",
              "    <tr>\n",
              "      <th>...</th>\n",
              "      <td>...</td>\n",
              "      <td>...</td>\n",
              "      <td>...</td>\n",
              "      <td>...</td>\n",
              "      <td>...</td>\n",
              "      <td>...</td>\n",
              "      <td>...</td>\n",
              "      <td>...</td>\n",
              "      <td>...</td>\n",
              "      <td>...</td>\n",
              "    </tr>\n",
              "    <tr>\n",
              "      <th>13172</th>\n",
              "      <td>9984</td>\n",
              "      <td>2</td>\n",
              "      <td>22</td>\n",
              "      <td>226</td>\n",
              "      <td>2260089</td>\n",
              "      <td>5</td>\n",
              "      <td>52</td>\n",
              "      <td>526</td>\n",
              "      <td>5853812.84</td>\n",
              "      <td>5853812.84</td>\n",
              "    </tr>\n",
              "    <tr>\n",
              "      <th>13173</th>\n",
              "      <td>9984</td>\n",
              "      <td>2</td>\n",
              "      <td>22</td>\n",
              "      <td>227</td>\n",
              "      <td>2270013</td>\n",
              "      <td>5</td>\n",
              "      <td>52</td>\n",
              "      <td>526</td>\n",
              "      <td>175000.00</td>\n",
              "      <td>175000.00</td>\n",
              "    </tr>\n",
              "    <tr>\n",
              "      <th>13174</th>\n",
              "      <td>9984</td>\n",
              "      <td>3</td>\n",
              "      <td>31</td>\n",
              "      <td>310</td>\n",
              "      <td>3100002</td>\n",
              "      <td>5</td>\n",
              "      <td>52</td>\n",
              "      <td>526</td>\n",
              "      <td>563223.56</td>\n",
              "      <td>563223.56</td>\n",
              "    </tr>\n",
              "    <tr>\n",
              "      <th>13175</th>\n",
              "      <td>9984</td>\n",
              "      <td>3</td>\n",
              "      <td>31</td>\n",
              "      <td>319</td>\n",
              "      <td>3190001</td>\n",
              "      <td>5</td>\n",
              "      <td>52</td>\n",
              "      <td>526</td>\n",
              "      <td>907200.00</td>\n",
              "      <td>907200.00</td>\n",
              "    </tr>\n",
              "    <tr>\n",
              "      <th>13176</th>\n",
              "      <td>9984</td>\n",
              "      <td>6</td>\n",
              "      <td>63</td>\n",
              "      <td>630</td>\n",
              "      <td>6300001</td>\n",
              "      <td>5</td>\n",
              "      <td>52</td>\n",
              "      <td>526</td>\n",
              "      <td>27000000.00</td>\n",
              "      <td>27000000.00</td>\n",
              "    </tr>\n",
              "  </tbody>\n",
              "</table>\n",
              "<p>12848 rows × 10 columns</p>\n",
              "</div>\n",
              "    <div class=\"colab-df-buttons\">\n",
              "\n",
              "  <div class=\"colab-df-container\">\n",
              "    <button class=\"colab-df-convert\" onclick=\"convertToInteractive('df-a25b107b-dc62-4493-9593-278b7551fddc')\"\n",
              "            title=\"Convert this dataframe to an interactive table.\"\n",
              "            style=\"display:none;\">\n",
              "\n",
              "  <svg xmlns=\"http://www.w3.org/2000/svg\" height=\"24px\" viewBox=\"0 -960 960 960\">\n",
              "    <path d=\"M120-120v-720h720v720H120Zm60-500h600v-160H180v160Zm220 220h160v-160H400v160Zm0 220h160v-160H400v160ZM180-400h160v-160H180v160Zm440 0h160v-160H620v160ZM180-180h160v-160H180v160Zm440 0h160v-160H620v160Z\"/>\n",
              "  </svg>\n",
              "    </button>\n",
              "\n",
              "  <style>\n",
              "    .colab-df-container {\n",
              "      display:flex;\n",
              "      gap: 12px;\n",
              "    }\n",
              "\n",
              "    .colab-df-convert {\n",
              "      background-color: #E8F0FE;\n",
              "      border: none;\n",
              "      border-radius: 50%;\n",
              "      cursor: pointer;\n",
              "      display: none;\n",
              "      fill: #1967D2;\n",
              "      height: 32px;\n",
              "      padding: 0 0 0 0;\n",
              "      width: 32px;\n",
              "    }\n",
              "\n",
              "    .colab-df-convert:hover {\n",
              "      background-color: #E2EBFA;\n",
              "      box-shadow: 0px 1px 2px rgba(60, 64, 67, 0.3), 0px 1px 3px 1px rgba(60, 64, 67, 0.15);\n",
              "      fill: #174EA6;\n",
              "    }\n",
              "\n",
              "    .colab-df-buttons div {\n",
              "      margin-bottom: 4px;\n",
              "    }\n",
              "\n",
              "    [theme=dark] .colab-df-convert {\n",
              "      background-color: #3B4455;\n",
              "      fill: #D2E3FC;\n",
              "    }\n",
              "\n",
              "    [theme=dark] .colab-df-convert:hover {\n",
              "      background-color: #434B5C;\n",
              "      box-shadow: 0px 1px 3px 1px rgba(0, 0, 0, 0.15);\n",
              "      filter: drop-shadow(0px 1px 2px rgba(0, 0, 0, 0.3));\n",
              "      fill: #FFFFFF;\n",
              "    }\n",
              "  </style>\n",
              "\n",
              "    <script>\n",
              "      const buttonEl =\n",
              "        document.querySelector('#df-a25b107b-dc62-4493-9593-278b7551fddc button.colab-df-convert');\n",
              "      buttonEl.style.display =\n",
              "        google.colab.kernel.accessAllowed ? 'block' : 'none';\n",
              "\n",
              "      async function convertToInteractive(key) {\n",
              "        const element = document.querySelector('#df-a25b107b-dc62-4493-9593-278b7551fddc');\n",
              "        const dataTable =\n",
              "          await google.colab.kernel.invokeFunction('convertToInteractive',\n",
              "                                                    [key], {});\n",
              "        if (!dataTable) return;\n",
              "\n",
              "        const docLinkHtml = 'Like what you see? Visit the ' +\n",
              "          '<a target=\"_blank\" href=https://colab.research.google.com/notebooks/data_table.ipynb>data table notebook</a>'\n",
              "          + ' to learn more about interactive tables.';\n",
              "        element.innerHTML = '';\n",
              "        dataTable['output_type'] = 'display_data';\n",
              "        await google.colab.output.renderOutput(dataTable, element);\n",
              "        const docLink = document.createElement('div');\n",
              "        docLink.innerHTML = docLinkHtml;\n",
              "        element.appendChild(docLink);\n",
              "      }\n",
              "    </script>\n",
              "  </div>\n",
              "\n",
              "\n",
              "<div id=\"df-09c7a88c-13b5-4edf-a2da-2256da55971d\">\n",
              "  <button class=\"colab-df-quickchart\" onclick=\"quickchart('df-09c7a88c-13b5-4edf-a2da-2256da55971d')\"\n",
              "            title=\"Suggest charts\"\n",
              "            style=\"display:none;\">\n",
              "\n",
              "<svg xmlns=\"http://www.w3.org/2000/svg\" height=\"24px\"viewBox=\"0 0 24 24\"\n",
              "     width=\"24px\">\n",
              "    <g>\n",
              "        <path d=\"M19 3H5c-1.1 0-2 .9-2 2v14c0 1.1.9 2 2 2h14c1.1 0 2-.9 2-2V5c0-1.1-.9-2-2-2zM9 17H7v-7h2v7zm4 0h-2V7h2v10zm4 0h-2v-4h2v4z\"/>\n",
              "    </g>\n",
              "</svg>\n",
              "  </button>\n",
              "\n",
              "<style>\n",
              "  .colab-df-quickchart {\n",
              "      --bg-color: #E8F0FE;\n",
              "      --fill-color: #1967D2;\n",
              "      --hover-bg-color: #E2EBFA;\n",
              "      --hover-fill-color: #174EA6;\n",
              "      --disabled-fill-color: #AAA;\n",
              "      --disabled-bg-color: #DDD;\n",
              "  }\n",
              "\n",
              "  [theme=dark] .colab-df-quickchart {\n",
              "      --bg-color: #3B4455;\n",
              "      --fill-color: #D2E3FC;\n",
              "      --hover-bg-color: #434B5C;\n",
              "      --hover-fill-color: #FFFFFF;\n",
              "      --disabled-bg-color: #3B4455;\n",
              "      --disabled-fill-color: #666;\n",
              "  }\n",
              "\n",
              "  .colab-df-quickchart {\n",
              "    background-color: var(--bg-color);\n",
              "    border: none;\n",
              "    border-radius: 50%;\n",
              "    cursor: pointer;\n",
              "    display: none;\n",
              "    fill: var(--fill-color);\n",
              "    height: 32px;\n",
              "    padding: 0;\n",
              "    width: 32px;\n",
              "  }\n",
              "\n",
              "  .colab-df-quickchart:hover {\n",
              "    background-color: var(--hover-bg-color);\n",
              "    box-shadow: 0 1px 2px rgba(60, 64, 67, 0.3), 0 1px 3px 1px rgba(60, 64, 67, 0.15);\n",
              "    fill: var(--button-hover-fill-color);\n",
              "  }\n",
              "\n",
              "  .colab-df-quickchart-complete:disabled,\n",
              "  .colab-df-quickchart-complete:disabled:hover {\n",
              "    background-color: var(--disabled-bg-color);\n",
              "    fill: var(--disabled-fill-color);\n",
              "    box-shadow: none;\n",
              "  }\n",
              "\n",
              "  .colab-df-spinner {\n",
              "    border: 2px solid var(--fill-color);\n",
              "    border-color: transparent;\n",
              "    border-bottom-color: var(--fill-color);\n",
              "    animation:\n",
              "      spin 1s steps(1) infinite;\n",
              "  }\n",
              "\n",
              "  @keyframes spin {\n",
              "    0% {\n",
              "      border-color: transparent;\n",
              "      border-bottom-color: var(--fill-color);\n",
              "      border-left-color: var(--fill-color);\n",
              "    }\n",
              "    20% {\n",
              "      border-color: transparent;\n",
              "      border-left-color: var(--fill-color);\n",
              "      border-top-color: var(--fill-color);\n",
              "    }\n",
              "    30% {\n",
              "      border-color: transparent;\n",
              "      border-left-color: var(--fill-color);\n",
              "      border-top-color: var(--fill-color);\n",
              "      border-right-color: var(--fill-color);\n",
              "    }\n",
              "    40% {\n",
              "      border-color: transparent;\n",
              "      border-right-color: var(--fill-color);\n",
              "      border-top-color: var(--fill-color);\n",
              "    }\n",
              "    60% {\n",
              "      border-color: transparent;\n",
              "      border-right-color: var(--fill-color);\n",
              "    }\n",
              "    80% {\n",
              "      border-color: transparent;\n",
              "      border-right-color: var(--fill-color);\n",
              "      border-bottom-color: var(--fill-color);\n",
              "    }\n",
              "    90% {\n",
              "      border-color: transparent;\n",
              "      border-bottom-color: var(--fill-color);\n",
              "    }\n",
              "  }\n",
              "</style>\n",
              "\n",
              "  <script>\n",
              "    async function quickchart(key) {\n",
              "      const quickchartButtonEl =\n",
              "        document.querySelector('#' + key + ' button');\n",
              "      quickchartButtonEl.disabled = true;  // To prevent multiple clicks.\n",
              "      quickchartButtonEl.classList.add('colab-df-spinner');\n",
              "      try {\n",
              "        const charts = await google.colab.kernel.invokeFunction(\n",
              "            'suggestCharts', [key], {});\n",
              "      } catch (error) {\n",
              "        console.error('Error during call to suggestCharts:', error);\n",
              "      }\n",
              "      quickchartButtonEl.classList.remove('colab-df-spinner');\n",
              "      quickchartButtonEl.classList.add('colab-df-quickchart-complete');\n",
              "    }\n",
              "    (() => {\n",
              "      let quickchartButtonEl =\n",
              "        document.querySelector('#df-09c7a88c-13b5-4edf-a2da-2256da55971d button');\n",
              "      quickchartButtonEl.style.display =\n",
              "        google.colab.kernel.accessAllowed ? 'block' : 'none';\n",
              "    })();\n",
              "  </script>\n",
              "</div>\n",
              "\n",
              "  <div id=\"id_a3b59384-044a-4518-8ed7-798336931e3c\">\n",
              "    <style>\n",
              "      .colab-df-generate {\n",
              "        background-color: #E8F0FE;\n",
              "        border: none;\n",
              "        border-radius: 50%;\n",
              "        cursor: pointer;\n",
              "        display: none;\n",
              "        fill: #1967D2;\n",
              "        height: 32px;\n",
              "        padding: 0 0 0 0;\n",
              "        width: 32px;\n",
              "      }\n",
              "\n",
              "      .colab-df-generate:hover {\n",
              "        background-color: #E2EBFA;\n",
              "        box-shadow: 0px 1px 2px rgba(60, 64, 67, 0.3), 0px 1px 3px 1px rgba(60, 64, 67, 0.15);\n",
              "        fill: #174EA6;\n",
              "      }\n",
              "\n",
              "      [theme=dark] .colab-df-generate {\n",
              "        background-color: #3B4455;\n",
              "        fill: #D2E3FC;\n",
              "      }\n",
              "\n",
              "      [theme=dark] .colab-df-generate:hover {\n",
              "        background-color: #434B5C;\n",
              "        box-shadow: 0px 1px 3px 1px rgba(0, 0, 0, 0.15);\n",
              "        filter: drop-shadow(0px 1px 2px rgba(0, 0, 0, 0.3));\n",
              "        fill: #FFFFFF;\n",
              "      }\n",
              "    </style>\n",
              "    <button class=\"colab-df-generate\" onclick=\"generateWithVariable('df_no_outliers')\"\n",
              "            title=\"Generate code using this dataframe.\"\n",
              "            style=\"display:none;\">\n",
              "\n",
              "  <svg xmlns=\"http://www.w3.org/2000/svg\" height=\"24px\"viewBox=\"0 0 24 24\"\n",
              "       width=\"24px\">\n",
              "    <path d=\"M7,19H8.4L18.45,9,17,7.55,7,17.6ZM5,21V16.75L18.45,3.32a2,2,0,0,1,2.83,0l1.4,1.43a1.91,1.91,0,0,1,.58,1.4,1.91,1.91,0,0,1-.58,1.4L9.25,21ZM18.45,9,17,7.55Zm-12,3A5.31,5.31,0,0,0,4.9,8.1,5.31,5.31,0,0,0,1,6.5,5.31,5.31,0,0,0,4.9,4.9,5.31,5.31,0,0,0,6.5,1,5.31,5.31,0,0,0,8.1,4.9,5.31,5.31,0,0,0,12,6.5,5.46,5.46,0,0,0,6.5,12Z\"/>\n",
              "  </svg>\n",
              "    </button>\n",
              "    <script>\n",
              "      (() => {\n",
              "      const buttonEl =\n",
              "        document.querySelector('#id_a3b59384-044a-4518-8ed7-798336931e3c button.colab-df-generate');\n",
              "      buttonEl.style.display =\n",
              "        google.colab.kernel.accessAllowed ? 'block' : 'none';\n",
              "\n",
              "      buttonEl.onclick = () => {\n",
              "        google.colab.notebook.generateWithVariable('df_no_outliers');\n",
              "      }\n",
              "      })();\n",
              "    </script>\n",
              "  </div>\n",
              "\n",
              "    </div>\n",
              "  </div>\n"
            ],
            "application/vnd.google.colaboratory.intrinsic+json": {
              "type": "dataframe",
              "variable_name": "df_no_outliers",
              "summary": "{\n  \"name\": \"df_no_outliers\",\n  \"rows\": 12848,\n  \"fields\": [\n    {\n      \"column\": \"Codi Entitat\",\n      \"properties\": {\n        \"dtype\": \"number\",\n        \"std\": 3083,\n        \"min\": 1000,\n        \"max\": 9984,\n        \"num_unique_values\": 216,\n        \"samples\": [\n          9418,\n          9956,\n          7940\n        ],\n        \"semantic_type\": \"\",\n        \"description\": \"\"\n      }\n    },\n    {\n      \"column\": \"Cap\\u00edtol\",\n      \"properties\": {\n        \"dtype\": \"number\",\n        \"std\": 1,\n        \"min\": 1,\n        \"max\": 7,\n        \"num_unique_values\": 6,\n        \"samples\": [\n          1,\n          2,\n          3\n        ],\n        \"semantic_type\": \"\",\n        \"description\": \"\"\n      }\n    },\n    {\n      \"column\": \"Article\",\n      \"properties\": {\n        \"dtype\": \"number\",\n        \"std\": 15,\n        \"min\": 10,\n        \"max\": 79,\n        \"num_unique_values\": 42,\n        \"samples\": [\n          78,\n          48,\n          21\n        ],\n        \"semantic_type\": \"\",\n        \"description\": \"\"\n      }\n    },\n    {\n      \"column\": \"Concepte\",\n      \"properties\": {\n        \"dtype\": \"number\",\n        \"std\": 153,\n        \"min\": 100,\n        \"max\": 790,\n        \"num_unique_values\": 119,\n        \"samples\": [\n          761,\n          741,\n          125\n        ],\n        \"semantic_type\": \"\",\n        \"description\": \"\"\n      }\n    },\n    {\n      \"column\": \"Aplicacio\",\n      \"properties\": {\n        \"dtype\": \"number\",\n        \"std\": 1535718,\n        \"min\": 1000001,\n        \"max\": 7900001,\n        \"num_unique_values\": 671,\n        \"samples\": [\n          4306170,\n          4820084,\n          4477595\n        ],\n        \"semantic_type\": \"\",\n        \"description\": \"\"\n      }\n    },\n    {\n      \"column\": \"\\u00c0rea\",\n      \"properties\": {\n        \"dtype\": \"number\",\n        \"std\": 1,\n        \"min\": 1,\n        \"max\": 7,\n        \"num_unique_values\": 7,\n        \"samples\": [\n          1,\n          3,\n          2\n        ],\n        \"semantic_type\": \"\",\n        \"description\": \"\"\n      }\n    },\n    {\n      \"column\": \"Pol\\u00edtica\",\n      \"properties\": {\n        \"dtype\": \"number\",\n        \"std\": 16,\n        \"min\": 11,\n        \"max\": 71,\n        \"num_unique_values\": 33,\n        \"samples\": [\n          71,\n          66,\n          65\n        ],\n        \"semantic_type\": \"\",\n        \"description\": \"\"\n      }\n    },\n    {\n      \"column\": \"Programa\",\n      \"properties\": {\n        \"dtype\": \"number\",\n        \"std\": 167,\n        \"min\": 111,\n        \"max\": 713,\n        \"num_unique_values\": 103,\n        \"samples\": [\n          445,\n          641,\n          223\n        ],\n        \"semantic_type\": \"\",\n        \"description\": \"\"\n      }\n    },\n    {\n      \"column\": \"Import sense consolidar\",\n      \"properties\": {\n        \"dtype\": \"number\",\n        \"std\": 15797817.233848533,\n        \"min\": -50000000.0,\n        \"max\": 392163717.96,\n        \"num_unique_values\": 7619,\n        \"samples\": [\n          1907982.13,\n          1508390.88,\n          335.0\n        ],\n        \"semantic_type\": \"\",\n        \"description\": \"\"\n      }\n    },\n    {\n      \"column\": \"Import consolidat sector p\\u00fablic\",\n      \"properties\": {\n        \"dtype\": \"number\",\n        \"std\": 12003554.666170109,\n        \"min\": -50000000.0,\n        \"max\": 283358753.71,\n        \"num_unique_values\": 6532,\n        \"samples\": [\n          24650.0,\n          115440.49,\n          3502500.0\n        ],\n        \"semantic_type\": \"\",\n        \"description\": \"\"\n      }\n    }\n  ]\n}"
            }
          },
          "metadata": {},
          "execution_count": 21
        }
      ]
    },
    {
      "cell_type": "markdown",
      "source": [
        "Nos saltamos la Etapa 3 del proceso, de transformación de los datos, ya que los datos seleccionados en la etapa 1, están todos en el formato con el que queremos trabajar (Float o Int) y no necesitamos transformarlos."
      ],
      "metadata": {
        "id": "BY3Vbpr4zb3p"
      }
    },
    {
      "cell_type": "markdown",
      "source": [
        "# Etapa 4: Minería de Datos"
      ],
      "metadata": {
        "id": "BUU0OTSbz61D"
      }
    },
    {
      "cell_type": "markdown",
      "source": [
        "Comenzamos calculando y representando la matriz de correlación, para ver las variables que están más correlacionadas."
      ],
      "metadata": {
        "id": "8QBGk9lx0RXY"
      }
    },
    {
      "cell_type": "code",
      "execution_count": 22,
      "metadata": {
        "colab": {
          "base_uri": "https://localhost:8080/",
          "height": 1000
        },
        "id": "uWP4EFRKZv6n",
        "outputId": "abbfbcef-8f07-49f1-ace6-b587e1aebe2c"
      },
      "outputs": [
        {
          "output_type": "display_data",
          "data": {
            "text/plain": [
              "<Figure size 1200x1000 with 2 Axes>"
            ],
            "image/png": "[encoded data removed]"
          },
          "metadata": {}
        }
      ],
      "source": [
        "# Matriz de correlación\n",
        "\n",
        "import matplotlib.pyplot as plt\n",
        "\n",
        "correlation_matrix = df_no_outliers.corr()\n",
        "\n",
        "plt.figure(figsize=(12, 10))\n",
        "sns.heatmap(correlation_matrix, annot=True, cmap='coolwarm', fmt=\".2f\")\n",
        "plt.title('Correlation Matrix')\n",
        "plt.show()\n"
      ]
    },
    {
      "cell_type": "markdown",
      "source": [
        "En dicha matriz vemos que hay varias variables con un alto grado de correlación. Vamos a hacer dos estudios diferentes:\n",
        "\n",
        "\n",
        "*   En primer lugar, vamos a tratar de predecir el capitol, en función del artículo, el concepto y la aplicación, ya que está bastante correlacionado con todas ellas.\n",
        "*   En segundo lugar, a pesar de tener menos correlación, creemos que tiene mayor interés de estudio, y es el importe sin consolidar, a partir del importe consolidado por sector público.\n",
        "\n",
        "\n",
        "\n"
      ],
      "metadata": {
        "id": "DotPbjaHiAz7"
      }
    },
    {
      "cell_type": "code",
      "source": [
        "# vamos a estudiar cual es el mejor modelo machine learning para mi conjunto de datos\n",
        "\n",
        "from sklearn.model_selection import train_test_split\n",
        "from sklearn.linear_model import LinearRegression\n",
        "from sklearn.tree import DecisionTreeRegressor\n",
        "from sklearn.ensemble import RandomForestRegressor\n",
        "from sklearn.svm import SVR\n",
        "from sklearn.metrics import mean_squared_error, r2_score\n",
        "\n",
        "# Seleccionamos la variable objetivo (target) y las variables carracterísticas (features)\n",
        "features = ['Article', 'Concepte', 'Aplicacio']\n",
        "target = 'Capítol'\n",
        "\n",
        "# Creamos la matriz característica (X) y el vector objetivo (y)\n",
        "X = df_no_outliers[features]\n",
        "y = df_no_outliers[target]\n",
        "\n",
        "# Dividimos los datos en conjunto de entrenamiento y de prueba\n",
        "X_train, X_test, y_train, y_test = train_test_split(X, y, test_size=0.2, random_state=42)\n",
        "\n",
        "# Inicializamos los modelos\n",
        "models = {\n",
        "    'Linear Regression': LinearRegression(),\n",
        "    'Decision Tree Regression': DecisionTreeRegressor(),\n",
        "    'Random Forest Regression': RandomForestRegressor(),\n",
        "    'Support Vector Regression': SVR()\n",
        "}\n",
        "\n",
        "# Entrenamos y evaluamos los modelos\n",
        "results = {}\n",
        "for name, model in models.items():\n",
        "  model.fit(X_train, y_train)\n",
        "  y_pred = model.predict(X_test)\n",
        "  mse = mean_squared_error(y_test, y_pred)\n",
        "  r2 = r2_score(y_test, y_pred)\n",
        "  results[name] = {'mse': mse, 'r2': r2}\n",
        "\n",
        "# Mostramos los resultados\n",
        "for name, metrics in results.items():\n",
        "  print(f'{name}:')\n",
        "  print(f'  Mean Squared Error (MSE): {metrics[\"mse\"]:.2f}')\n",
        "  print(f'  R-squared (R2): {metrics[\"r2\"]:.2f}')\n",
        "  print()\n",
        "\n",
        "# Determinamos el mejor modelo basado en R^2\n",
        "best_model = max(results, key=lambda k: results[k]['r2'])\n",
        "print(f'Mejor modelo basado en R2: {best_model}')\n"
      ],
      "metadata": {
        "colab": {
          "base_uri": "https://localhost:8080/"
        },
        "id": "NXqmlvLgmW4X",
        "outputId": "28801abd-ca3e-411c-afd9-769381f5d738"
      },
      "execution_count": 23,
      "outputs": [
        {
          "output_type": "stream",
          "name": "stdout",
          "text": [
            "Linear Regression:\n",
            "  Mean Squared Error (MSE): 0.02\n",
            "  R-squared (R2): 0.99\n",
            "\n",
            "Decision Tree Regression:\n",
            "  Mean Squared Error (MSE): 0.00\n",
            "  R-squared (R2): 1.00\n",
            "\n",
            "Random Forest Regression:\n",
            "  Mean Squared Error (MSE): 0.00\n",
            "  R-squared (R2): 1.00\n",
            "\n",
            "Support Vector Regression:\n",
            "  Mean Squared Error (MSE): 0.02\n",
            "  R-squared (R2): 0.99\n",
            "\n",
            "Mejor modelo basado en R2: Decision Tree Regression\n"
          ]
        }
      ]
    },
    {
      "cell_type": "markdown",
      "source": [
        "EL estudio anterior, nos indica que el mejor modelo para realizar es el árbol de regresión, por lo que vamos a llevarlo a cabo."
      ],
      "metadata": {
        "id": "thDUYQJphH4j"
      }
    },
    {
      "cell_type": "code",
      "source": [
        "# Realizamos un arbol de regresión\n",
        "\n",
        "from sklearn.tree import DecisionTreeRegressor\n",
        "from sklearn.model_selection import train_test_split\n",
        "from sklearn.metrics import mean_squared_error, r2_score\n",
        "# Seleccionamos la variable objetivo (target) y las variables carracterísticas (features)\n",
        "features = ['Article', 'Concepte', 'Aplicacio']\n",
        "target = 'Capítol'\n",
        "# Creamos la matriz característica (X) y el vector objetivo (y)\n",
        "X = df[features]\n",
        "y = df[target]\n",
        "# Dividimos los datos en conjunto de entrenamiento y de prueba\n",
        "X_train, X_test, y_train, y_test = train_test_split(X, y, test_size=0.2, random_state=42)\n",
        "\n",
        "# Creamos el modelo de árbol de regresión\n",
        "model = DecisionTreeRegressor()\n",
        "# Entrenamos el modelo\n",
        "model.fit(X_train, y_train)\n",
        "\n",
        "# Realizamos predicciones\n",
        "y_pred = model.predict(X_test)\n",
        "# Evaluamos el error\n",
        "mse = mean_squared_error(y_test, y_pred)\n",
        "r2 = r2_score(y_test, y_pred)\n",
        "\n",
        "print(f\"MSE: {mse}\")\n",
        "print(f\"R2: {r2}\")\n"
      ],
      "metadata": {
        "colab": {
          "base_uri": "https://localhost:8080/"
        },
        "id": "fUEVm8ejwruc",
        "outputId": "a59cbb47-37c6-4c0c-ca56-f2ef12eaffd0"
      },
      "execution_count": 24,
      "outputs": [
        {
          "output_type": "stream",
          "name": "stdout",
          "text": [
            "MSE: 0.0\n",
            "R2: 1.0\n"
          ]
        }
      ]
    },
    {
      "cell_type": "markdown",
      "source": [
        "# ETAPA 5: Evaluación"
      ],
      "metadata": {
        "id": "IqdTJHDYq_si"
      }
    },
    {
      "cell_type": "markdown",
      "source": [
        "Comienzo con la etapa de evaluación y viualización de resultados, comparando los valores reales, con las predicciones."
      ],
      "metadata": {
        "id": "q4JtpzLlq8zN"
      }
    },
    {
      "cell_type": "code",
      "source": [
        "# Muestro las predicciones junto con los valores reales\n",
        "import pandas as pd\n",
        "resultados = pd.DataFrame({'Valor_Real': y_test, 'Predicciones': y_pred})\n",
        "print(resultados)"
      ],
      "metadata": {
        "colab": {
          "base_uri": "https://localhost:8080/"
        },
        "id": "2Vw2RU5ewymL",
        "outputId": "aec082cb-fe5c-4b71-e39b-c82ba467ee5c"
      },
      "execution_count": 25,
      "outputs": [
        {
          "output_type": "stream",
          "name": "stdout",
          "text": [
            "       Valor_Real  Predicciones\n",
            "12081           2           2.0\n",
            "10507           2           2.0\n",
            "3013            1           1.0\n",
            "4091            7           7.0\n",
            "2348            6           6.0\n",
            "...           ...           ...\n",
            "6830            1           1.0\n",
            "10318           2           2.0\n",
            "1042            2           2.0\n",
            "2389            2           2.0\n",
            "8255            2           2.0\n",
            "\n",
            "[2636 rows x 2 columns]\n"
          ]
        }
      ]
    },
    {
      "cell_type": "code",
      "source": [
        "from sklearn.metrics import mean_squared_error, r2_score, mean_absolute_error\n",
        "\n",
        "# Calculo métricas de evaluación\n",
        "mse = mean_squared_error(y_test, y_pred)\n",
        "r2 = r2_score(y_test, y_pred)\n",
        "mae = mean_absolute_error(y_test, y_pred)\n",
        "\n",
        "print(f'MSE: {mse}')\n",
        "print(f'R²: {r2}')\n",
        "print(f'MAE: {mae}')"
      ],
      "metadata": {
        "colab": {
          "base_uri": "https://localhost:8080/"
        },
        "id": "4UNlt5Lww8Hl",
        "outputId": "2a979ae9-cdd9-4ee2-e057-3ca621944b0a"
      },
      "execution_count": 26,
      "outputs": [
        {
          "output_type": "stream",
          "name": "stdout",
          "text": [
            "MSE: 0.0\n",
            "R²: 1.0\n",
            "MAE: 0.0\n"
          ]
        }
      ]
    },
    {
      "cell_type": "markdown",
      "source": [
        "Veamos ahora el gráfico de los valores reales vs las predicciones."
      ],
      "metadata": {
        "id": "h7tL2JiUqtAR"
      }
    },
    {
      "cell_type": "code",
      "source": [
        "# Gráfico de valores reales vs predicciones\n",
        "\n",
        "import matplotlib.pyplot as plt\n",
        "plt.figure(figsize=(10, 6))\n",
        "plt.scatter(y_test, y_pred)\n",
        "plt.xlabel(\"Valores Reales\")\n",
        "plt.ylabel(\"Predicciones\")\n",
        "plt.title(\"Valores Reales vs Predicciones\")\n",
        "plt.plot([min(y_test), max(y_test)], [min(y_test), max(y_test)], color='red', linestyle='--')\n",
        "plt.show()\n"
      ],
      "metadata": {
        "colab": {
          "base_uri": "https://localhost:8080/",
          "height": 569
        },
        "id": "eBdB8FoAxCWS",
        "outputId": "3ca47464-3c4a-4b15-fb3e-bf5dacfdd886"
      },
      "execution_count": 27,
      "outputs": [
        {
          "output_type": "display_data",
          "data": {
            "text/plain": [
              "<Figure size 1000x600 with 1 Axes>"
            ],
            "image/png": "[encoded data removed]"
          },
          "metadata": {}
        }
      ]
    },
    {
      "cell_type": "markdown",
      "source": [
        "Vamos a volver a realizar las Etapas 4 y 5, con las nuevas variables seleccionadas para el modelo machine learning."
      ],
      "metadata": {
        "id": "iWWBbBQ2rSP7"
      }
    },
    {
      "cell_type": "code",
      "source": [
        "#  Mejor modelo machine learning para mi conjunto de datos\n",
        "\n",
        "from sklearn.model_selection import train_test_split\n",
        "from sklearn.linear_model import LinearRegression\n",
        "from sklearn.tree import DecisionTreeRegressor\n",
        "from sklearn.ensemble import RandomForestRegressor\n",
        "from sklearn.svm import SVR\n",
        "from sklearn.metrics import mean_squared_error, r2_score\n",
        "\n",
        "# Seleccionamos la variable objetivo (target) y las variables carracterísticas (features)\n",
        "features = ['Import consolidat sector públic']\n",
        "target = 'Import sense consolidar'\n",
        "\n",
        "\n",
        "# Creamos la matriz característica (X) y el vector objetivo (y)\n",
        "X = df_no_outliers[features]\n",
        "y = df_no_outliers[target]\n",
        "\n",
        "# Dividimos los datos en conjunto de entrenamiento y de prueba\n",
        "X_train, X_test, y_train, y_test = train_test_split(X, y, test_size=0.2, random_state=42)\n",
        "\n",
        "# Iniciamos los modelos\n",
        "models = {\n",
        "    'Linear Regression': LinearRegression(),\n",
        "    'Decision Tree Regression': DecisionTreeRegressor(),\n",
        "    'Random Forest Regression': RandomForestRegressor(),\n",
        "    'Support Vector Regression': SVR()\n",
        "}\n",
        "\n",
        "# Entreno y evaluo los modelos\n",
        "results = {}\n",
        "for name, model in models.items():\n",
        "  model.fit(X_train, y_train)\n",
        "  y_pred = model.predict(X_test)\n",
        "  mse = mean_squared_error(y_test, y_pred)\n",
        "  r2 = r2_score(y_test, y_pred)\n",
        "  results[name] = {'mse': mse, 'r2': r2}\n",
        "\n",
        "# Muestro los resultados\n",
        "for name, metrics in results.items():\n",
        "  print(f'{name}:')\n",
        "  print(f'  Mean Squared Error (MSE): {metrics[\"mse\"]:.2f}')\n",
        "  print(f'  R-squared (R2): {metrics[\"r2\"]:.2f}')\n",
        "  print()\n",
        "\n",
        "# Determino el mejor modelo basado en R2\n",
        "best_model = max(results, key=lambda k: results[k]['r2'])\n",
        "print(f'mejor modelo basado en R2: {best_model}')"
      ],
      "metadata": {
        "colab": {
          "base_uri": "https://localhost:8080/"
        },
        "id": "KUGYq8nwoSlC",
        "outputId": "3f18d796-5021-4903-e131-c4ac9636a41e"
      },
      "execution_count": 28,
      "outputs": [
        {
          "output_type": "stream",
          "name": "stdout",
          "text": [
            "Linear Regression:\n",
            "  Mean Squared Error (MSE): 119890922772268.91\n",
            "  R-squared (R2): 0.44\n",
            "\n",
            "Decision Tree Regression:\n",
            "  Mean Squared Error (MSE): 115154804549237.56\n",
            "  R-squared (R2): 0.47\n",
            "\n",
            "Random Forest Regression:\n",
            "  Mean Squared Error (MSE): 115138400237253.11\n",
            "  R-squared (R2): 0.47\n",
            "\n",
            "Support Vector Regression:\n",
            "  Mean Squared Error (MSE): 220842959366874.53\n",
            "  R-squared (R2): -0.02\n",
            "\n",
            "mejor modelo basado en R2: Random Forest Regression\n"
          ]
        }
      ]
    },
    {
      "cell_type": "code",
      "source": [
        "# Realizo un random forest regression\n",
        "\n",
        "from sklearn.ensemble import RandomForestRegressor\n",
        "from sklearn.model_selection import train_test_split\n",
        "from sklearn.metrics import mean_squared_error, r2_score\n",
        "\n",
        "# Seleccionamos la variable objetivo (target) y las variables carracterísticas (features)\n",
        "features = ['Import consolidat sector públic']  # Replace with your actual feature columns\n",
        "target = 'Import sense consolidar'  # Replace with your target column\n",
        "# Creamos la matriz característica (X) y el vector objetivo (y)\n",
        "X = df_no_outliers[features]\n",
        "y = df_no_outliers[target]\n",
        "# Dividimos los datos en conjunto de entrenamiento y de prueba\n",
        "X_train, X_test, y_train, y_test = train_test_split(X, y, test_size=0.2, random_state=42)\n",
        "# Creamos un modelo Random Forest Regression\n",
        "rf_model = RandomForestRegressor(n_estimators=100, random_state=42)\n",
        "# Entrenamos el modelo\n",
        "rf_model.fit(X_train, y_train)\n",
        "# Hacemos predicciones\n",
        "y_pred = rf_model.predict(X_test)\n",
        "# Evaluamos el modelo\n",
        "mse = mean_squared_error(y_test, y_pred)\n",
        "r2 = r2_score(y_test, y_pred)\n",
        "print(f\"Mean Squared Error (MSE): {mse:.2f}\")\n",
        "print(f\"R-squared (R2): {r2:.2f}\")"
      ],
      "metadata": {
        "colab": {
          "base_uri": "https://localhost:8080/"
        },
        "id": "yB-mnOdmtMOK",
        "outputId": "fe5da6d3-09c4-4dda-ad24-e42d3c9d050a"
      },
      "execution_count": 29,
      "outputs": [
        {
          "output_type": "stream",
          "name": "stdout",
          "text": [
            "Mean Squared Error (MSE): 115154122557035.44\n",
            "R-squared (R2): 0.47\n"
          ]
        }
      ]
    },
    {
      "cell_type": "code",
      "source": [
        "# Muestro las predicciones junto con los valores reales\n",
        "import pandas as pd\n",
        "resultados = pd.DataFrame({'Valor_Real': y_test, 'Predicciones': y_pred})\n",
        "print(resultados)"
      ],
      "metadata": {
        "colab": {
          "base_uri": "https://localhost:8080/"
        },
        "id": "NpDrLdiGqRmr",
        "outputId": "a9477003-665f-4abe-852f-5de6ad015d95"
      },
      "execution_count": 30,
      "outputs": [
        {
          "output_type": "stream",
          "name": "stdout",
          "text": [
            "       Valor_Real  Predicciones\n",
            "10521    51132.00    51123.7892\n",
            "8       279261.72   279141.2093\n",
            "8737     12982.71    12998.4465\n",
            "6285    750520.15   750018.7134\n",
            "3975    300000.00   300000.0000\n",
            "...           ...           ...\n",
            "8675        50.00       50.0000\n",
            "3428    182000.00   181994.2114\n",
            "7683      5000.00     5000.0000\n",
            "2956      5450.00     5444.3972\n",
            "2319     10000.00    10000.0000\n",
            "\n",
            "[2570 rows x 2 columns]\n"
          ]
        }
      ]
    },
    {
      "cell_type": "code",
      "source": [
        "from sklearn.metrics import mean_squared_error, r2_score, mean_absolute_error\n",
        "\n",
        "# Calculo métricas de evaluación\n",
        "mse = mean_squared_error(y_test, y_pred)\n",
        "r2 = r2_score(y_test, y_pred)\n",
        "mae = mean_absolute_error(y_test, y_pred)\n",
        "\n",
        "print(f'MSE: {mse}')\n",
        "print(f'R²: {r2}')\n",
        "print(f'MAE: {mae}')"
      ],
      "metadata": {
        "colab": {
          "base_uri": "https://localhost:8080/"
        },
        "id": "3_lu22ldJn3i",
        "outputId": "2c7d2588-fc1a-471f-8c2a-e7095f1dd988"
      },
      "execution_count": 31,
      "outputs": [
        {
          "output_type": "stream",
          "name": "stdout",
          "text": [
            "MSE: 115154122557035.44\n",
            "R²: 0.46558975574776273\n",
            "MAE: 1191444.909124883\n"
          ]
        }
      ]
    },
    {
      "cell_type": "code",
      "source": [
        "# Gráfico de valores reales vs predicciones\n",
        "\n",
        "import matplotlib.pyplot as plt\n",
        "plt.figure(figsize=(10, 6))\n",
        "plt.scatter(y_test, y_pred)\n",
        "plt.xlabel(\"Valores Reales\")\n",
        "plt.ylabel(\"Predicciones\")\n",
        "plt.title(\"Valores Reales vs Predicciones\")\n",
        "plt.plot([min(y_test), max(y_test)], [min(y_test), max(y_test)], color='red', linestyle='--')\n",
        "plt.show()\n"
      ],
      "metadata": {
        "colab": {
          "base_uri": "https://localhost:8080/",
          "height": 569
        },
        "id": "TGX3NpP8o2sH",
        "outputId": "7e34d43b-a5de-4e7f-eb21-37bd5187fe62"
      },
      "execution_count": 32,
      "outputs": [
        {
          "output_type": "display_data",
          "data": {
            "text/plain": [
              "<Figure size 1000x600 with 1 Axes>"
            ],
            "image/png": "[encoded data removed]"
          },
          "metadata": {}
        }
      ]
    }
  ],
  "metadata": {
    "colab": {
      "provenance": []
    },
    "kernelspec": {
      "display_name": "Python 3",
      "name": "python3"
    },
    "language_info": {
      "name": "python"
    }
  },
  "nbformat": 4,
  "nbformat_minor": 0
}